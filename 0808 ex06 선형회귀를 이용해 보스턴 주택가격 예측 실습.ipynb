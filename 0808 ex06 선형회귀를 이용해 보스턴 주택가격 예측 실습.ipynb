{
 "cells": [
  {
   "cell_type": "markdown",
   "id": "c6cb3504",
   "metadata": {},
   "source": [
    "### 1. 목표 설정\n",
    "\n",
    "1. 보스턴 집값 데이터를 이용하여 회기분석 진행\n",
    "2. 특성곲을 이용하여 새로운 특성 만들기\n",
    "3. 규제 모델을 이용하여 모델의 복잡도 제어"
   ]
  },
  {
   "cell_type": "markdown",
   "id": "6bffdc34",
   "metadata": {},
   "source": [
    "### 2. CSV 파일 불러오기\n",
    "\n",
    "- csv파일 불러오기 (보스턴 주택 데이터)"
   ]
  },
  {
   "cell_type": "code",
   "execution_count": 1,
   "id": "99970279",
   "metadata": {},
   "outputs": [],
   "source": [
    "# 필요한 라이브러리\n",
    "\n",
    "import pandas as pd \n",
    "import numpy as np \n",
    "from matplotlib import pyplot as plt \n",
    "import seaborn as sns"
   ]
  },
  {
   "cell_type": "code",
   "execution_count": 2,
   "id": "5cdd4f22",
   "metadata": {},
   "outputs": [],
   "source": [
    "# 데이터 불러오기\n",
    "\n",
    "boston = pd.read_csv('./data/boston_housing.csv')"
   ]
  },
  {
   "cell_type": "code",
   "execution_count": 3,
   "id": "aa3e9689",
   "metadata": {},
   "outputs": [
    {
     "data": {
      "text/html": [
       "<div>\n",
       "<style scoped>\n",
       "    .dataframe tbody tr th:only-of-type {\n",
       "        vertical-align: middle;\n",
       "    }\n",
       "\n",
       "    .dataframe tbody tr th {\n",
       "        vertical-align: top;\n",
       "    }\n",
       "\n",
       "    .dataframe thead th {\n",
       "        text-align: right;\n",
       "    }\n",
       "</style>\n",
       "<table border=\"1\" class=\"dataframe\">\n",
       "  <thead>\n",
       "    <tr style=\"text-align: right;\">\n",
       "      <th></th>\n",
       "      <th>Unnamed: 0</th>\n",
       "      <th>CRIM</th>\n",
       "      <th>ZN</th>\n",
       "      <th>INDUS</th>\n",
       "      <th>CHAS</th>\n",
       "      <th>NOX</th>\n",
       "      <th>RM</th>\n",
       "      <th>AGE</th>\n",
       "      <th>DIS</th>\n",
       "      <th>RAD</th>\n",
       "      <th>TAX</th>\n",
       "      <th>PTRATIO</th>\n",
       "      <th>B</th>\n",
       "      <th>LSTAT</th>\n",
       "      <th>MEDV</th>\n",
       "    </tr>\n",
       "  </thead>\n",
       "  <tbody>\n",
       "    <tr>\n",
       "      <th>0</th>\n",
       "      <td>0</td>\n",
       "      <td>0.00632</td>\n",
       "      <td>18.0</td>\n",
       "      <td>2.31</td>\n",
       "      <td>0.0</td>\n",
       "      <td>0.538</td>\n",
       "      <td>6.575</td>\n",
       "      <td>65.2</td>\n",
       "      <td>4.0900</td>\n",
       "      <td>1.0</td>\n",
       "      <td>296.0</td>\n",
       "      <td>15.3</td>\n",
       "      <td>396.90</td>\n",
       "      <td>4.98</td>\n",
       "      <td>24.0</td>\n",
       "    </tr>\n",
       "    <tr>\n",
       "      <th>1</th>\n",
       "      <td>1</td>\n",
       "      <td>0.02731</td>\n",
       "      <td>0.0</td>\n",
       "      <td>7.07</td>\n",
       "      <td>0.0</td>\n",
       "      <td>0.469</td>\n",
       "      <td>6.421</td>\n",
       "      <td>78.9</td>\n",
       "      <td>4.9671</td>\n",
       "      <td>2.0</td>\n",
       "      <td>242.0</td>\n",
       "      <td>17.8</td>\n",
       "      <td>396.90</td>\n",
       "      <td>9.14</td>\n",
       "      <td>21.6</td>\n",
       "    </tr>\n",
       "    <tr>\n",
       "      <th>2</th>\n",
       "      <td>2</td>\n",
       "      <td>0.02729</td>\n",
       "      <td>0.0</td>\n",
       "      <td>7.07</td>\n",
       "      <td>0.0</td>\n",
       "      <td>0.469</td>\n",
       "      <td>7.185</td>\n",
       "      <td>61.1</td>\n",
       "      <td>4.9671</td>\n",
       "      <td>2.0</td>\n",
       "      <td>242.0</td>\n",
       "      <td>17.8</td>\n",
       "      <td>392.83</td>\n",
       "      <td>4.03</td>\n",
       "      <td>34.7</td>\n",
       "    </tr>\n",
       "    <tr>\n",
       "      <th>3</th>\n",
       "      <td>3</td>\n",
       "      <td>0.03237</td>\n",
       "      <td>0.0</td>\n",
       "      <td>2.18</td>\n",
       "      <td>0.0</td>\n",
       "      <td>0.458</td>\n",
       "      <td>6.998</td>\n",
       "      <td>45.8</td>\n",
       "      <td>6.0622</td>\n",
       "      <td>3.0</td>\n",
       "      <td>222.0</td>\n",
       "      <td>18.7</td>\n",
       "      <td>394.63</td>\n",
       "      <td>2.94</td>\n",
       "      <td>33.4</td>\n",
       "    </tr>\n",
       "    <tr>\n",
       "      <th>4</th>\n",
       "      <td>4</td>\n",
       "      <td>0.06905</td>\n",
       "      <td>0.0</td>\n",
       "      <td>2.18</td>\n",
       "      <td>0.0</td>\n",
       "      <td>0.458</td>\n",
       "      <td>7.147</td>\n",
       "      <td>54.2</td>\n",
       "      <td>6.0622</td>\n",
       "      <td>3.0</td>\n",
       "      <td>222.0</td>\n",
       "      <td>18.7</td>\n",
       "      <td>396.90</td>\n",
       "      <td>5.33</td>\n",
       "      <td>36.2</td>\n",
       "    </tr>\n",
       "  </tbody>\n",
       "</table>\n",
       "</div>"
      ],
      "text/plain": [
       "   Unnamed: 0     CRIM    ZN  INDUS  CHAS    NOX     RM   AGE     DIS  RAD  \\\n",
       "0           0  0.00632  18.0   2.31   0.0  0.538  6.575  65.2  4.0900  1.0   \n",
       "1           1  0.02731   0.0   7.07   0.0  0.469  6.421  78.9  4.9671  2.0   \n",
       "2           2  0.02729   0.0   7.07   0.0  0.469  7.185  61.1  4.9671  2.0   \n",
       "3           3  0.03237   0.0   2.18   0.0  0.458  6.998  45.8  6.0622  3.0   \n",
       "4           4  0.06905   0.0   2.18   0.0  0.458  7.147  54.2  6.0622  3.0   \n",
       "\n",
       "     TAX  PTRATIO       B  LSTAT  MEDV  \n",
       "0  296.0     15.3  396.90   4.98  24.0  \n",
       "1  242.0     17.8  396.90   9.14  21.6  \n",
       "2  242.0     17.8  392.83   4.03  34.7  \n",
       "3  222.0     18.7  394.63   2.94  33.4  \n",
       "4  222.0     18.7  396.90   5.33  36.2  "
      ]
     },
     "execution_count": 3,
     "metadata": {},
     "output_type": "execute_result"
    }
   ],
   "source": [
    "boston.head()"
   ]
  },
  {
   "cell_type": "code",
   "execution_count": 4,
   "id": "116ba18d",
   "metadata": {},
   "outputs": [],
   "source": [
    "# 필요없는 Unnamed 컬럼 삭제\n",
    "\n",
    "boston.drop(\"Unnamed: 0\", axis=1, inplace=True)"
   ]
  },
  {
   "cell_type": "code",
   "execution_count": 5,
   "id": "b2233542",
   "metadata": {
    "scrolled": true
   },
   "outputs": [
    {
     "data": {
      "text/html": [
       "<div>\n",
       "<style scoped>\n",
       "    .dataframe tbody tr th:only-of-type {\n",
       "        vertical-align: middle;\n",
       "    }\n",
       "\n",
       "    .dataframe tbody tr th {\n",
       "        vertical-align: top;\n",
       "    }\n",
       "\n",
       "    .dataframe thead th {\n",
       "        text-align: right;\n",
       "    }\n",
       "</style>\n",
       "<table border=\"1\" class=\"dataframe\">\n",
       "  <thead>\n",
       "    <tr style=\"text-align: right;\">\n",
       "      <th></th>\n",
       "      <th>CRIM</th>\n",
       "      <th>ZN</th>\n",
       "      <th>INDUS</th>\n",
       "      <th>CHAS</th>\n",
       "      <th>NOX</th>\n",
       "      <th>RM</th>\n",
       "      <th>AGE</th>\n",
       "      <th>DIS</th>\n",
       "      <th>RAD</th>\n",
       "      <th>TAX</th>\n",
       "      <th>PTRATIO</th>\n",
       "      <th>B</th>\n",
       "      <th>LSTAT</th>\n",
       "      <th>MEDV</th>\n",
       "    </tr>\n",
       "  </thead>\n",
       "  <tbody>\n",
       "    <tr>\n",
       "      <th>0</th>\n",
       "      <td>0.00632</td>\n",
       "      <td>18.0</td>\n",
       "      <td>2.31</td>\n",
       "      <td>0.0</td>\n",
       "      <td>0.538</td>\n",
       "      <td>6.575</td>\n",
       "      <td>65.2</td>\n",
       "      <td>4.0900</td>\n",
       "      <td>1.0</td>\n",
       "      <td>296.0</td>\n",
       "      <td>15.3</td>\n",
       "      <td>396.90</td>\n",
       "      <td>4.98</td>\n",
       "      <td>24.0</td>\n",
       "    </tr>\n",
       "    <tr>\n",
       "      <th>1</th>\n",
       "      <td>0.02731</td>\n",
       "      <td>0.0</td>\n",
       "      <td>7.07</td>\n",
       "      <td>0.0</td>\n",
       "      <td>0.469</td>\n",
       "      <td>6.421</td>\n",
       "      <td>78.9</td>\n",
       "      <td>4.9671</td>\n",
       "      <td>2.0</td>\n",
       "      <td>242.0</td>\n",
       "      <td>17.8</td>\n",
       "      <td>396.90</td>\n",
       "      <td>9.14</td>\n",
       "      <td>21.6</td>\n",
       "    </tr>\n",
       "    <tr>\n",
       "      <th>2</th>\n",
       "      <td>0.02729</td>\n",
       "      <td>0.0</td>\n",
       "      <td>7.07</td>\n",
       "      <td>0.0</td>\n",
       "      <td>0.469</td>\n",
       "      <td>7.185</td>\n",
       "      <td>61.1</td>\n",
       "      <td>4.9671</td>\n",
       "      <td>2.0</td>\n",
       "      <td>242.0</td>\n",
       "      <td>17.8</td>\n",
       "      <td>392.83</td>\n",
       "      <td>4.03</td>\n",
       "      <td>34.7</td>\n",
       "    </tr>\n",
       "    <tr>\n",
       "      <th>3</th>\n",
       "      <td>0.03237</td>\n",
       "      <td>0.0</td>\n",
       "      <td>2.18</td>\n",
       "      <td>0.0</td>\n",
       "      <td>0.458</td>\n",
       "      <td>6.998</td>\n",
       "      <td>45.8</td>\n",
       "      <td>6.0622</td>\n",
       "      <td>3.0</td>\n",
       "      <td>222.0</td>\n",
       "      <td>18.7</td>\n",
       "      <td>394.63</td>\n",
       "      <td>2.94</td>\n",
       "      <td>33.4</td>\n",
       "    </tr>\n",
       "    <tr>\n",
       "      <th>4</th>\n",
       "      <td>0.06905</td>\n",
       "      <td>0.0</td>\n",
       "      <td>2.18</td>\n",
       "      <td>0.0</td>\n",
       "      <td>0.458</td>\n",
       "      <td>7.147</td>\n",
       "      <td>54.2</td>\n",
       "      <td>6.0622</td>\n",
       "      <td>3.0</td>\n",
       "      <td>222.0</td>\n",
       "      <td>18.7</td>\n",
       "      <td>396.90</td>\n",
       "      <td>5.33</td>\n",
       "      <td>36.2</td>\n",
       "    </tr>\n",
       "    <tr>\n",
       "      <th>...</th>\n",
       "      <td>...</td>\n",
       "      <td>...</td>\n",
       "      <td>...</td>\n",
       "      <td>...</td>\n",
       "      <td>...</td>\n",
       "      <td>...</td>\n",
       "      <td>...</td>\n",
       "      <td>...</td>\n",
       "      <td>...</td>\n",
       "      <td>...</td>\n",
       "      <td>...</td>\n",
       "      <td>...</td>\n",
       "      <td>...</td>\n",
       "      <td>...</td>\n",
       "    </tr>\n",
       "    <tr>\n",
       "      <th>501</th>\n",
       "      <td>0.06263</td>\n",
       "      <td>0.0</td>\n",
       "      <td>11.93</td>\n",
       "      <td>0.0</td>\n",
       "      <td>0.573</td>\n",
       "      <td>6.593</td>\n",
       "      <td>69.1</td>\n",
       "      <td>2.4786</td>\n",
       "      <td>1.0</td>\n",
       "      <td>273.0</td>\n",
       "      <td>21.0</td>\n",
       "      <td>391.99</td>\n",
       "      <td>9.67</td>\n",
       "      <td>22.4</td>\n",
       "    </tr>\n",
       "    <tr>\n",
       "      <th>502</th>\n",
       "      <td>0.04527</td>\n",
       "      <td>0.0</td>\n",
       "      <td>11.93</td>\n",
       "      <td>0.0</td>\n",
       "      <td>0.573</td>\n",
       "      <td>6.120</td>\n",
       "      <td>76.7</td>\n",
       "      <td>2.2875</td>\n",
       "      <td>1.0</td>\n",
       "      <td>273.0</td>\n",
       "      <td>21.0</td>\n",
       "      <td>396.90</td>\n",
       "      <td>9.08</td>\n",
       "      <td>20.6</td>\n",
       "    </tr>\n",
       "    <tr>\n",
       "      <th>503</th>\n",
       "      <td>0.06076</td>\n",
       "      <td>0.0</td>\n",
       "      <td>11.93</td>\n",
       "      <td>0.0</td>\n",
       "      <td>0.573</td>\n",
       "      <td>6.976</td>\n",
       "      <td>91.0</td>\n",
       "      <td>2.1675</td>\n",
       "      <td>1.0</td>\n",
       "      <td>273.0</td>\n",
       "      <td>21.0</td>\n",
       "      <td>396.90</td>\n",
       "      <td>5.64</td>\n",
       "      <td>23.9</td>\n",
       "    </tr>\n",
       "    <tr>\n",
       "      <th>504</th>\n",
       "      <td>0.10959</td>\n",
       "      <td>0.0</td>\n",
       "      <td>11.93</td>\n",
       "      <td>0.0</td>\n",
       "      <td>0.573</td>\n",
       "      <td>6.794</td>\n",
       "      <td>89.3</td>\n",
       "      <td>2.3889</td>\n",
       "      <td>1.0</td>\n",
       "      <td>273.0</td>\n",
       "      <td>21.0</td>\n",
       "      <td>393.45</td>\n",
       "      <td>6.48</td>\n",
       "      <td>22.0</td>\n",
       "    </tr>\n",
       "    <tr>\n",
       "      <th>505</th>\n",
       "      <td>0.04741</td>\n",
       "      <td>0.0</td>\n",
       "      <td>11.93</td>\n",
       "      <td>0.0</td>\n",
       "      <td>0.573</td>\n",
       "      <td>6.030</td>\n",
       "      <td>80.8</td>\n",
       "      <td>2.5050</td>\n",
       "      <td>1.0</td>\n",
       "      <td>273.0</td>\n",
       "      <td>21.0</td>\n",
       "      <td>396.90</td>\n",
       "      <td>7.88</td>\n",
       "      <td>11.9</td>\n",
       "    </tr>\n",
       "  </tbody>\n",
       "</table>\n",
       "<p>506 rows × 14 columns</p>\n",
       "</div>"
      ],
      "text/plain": [
       "        CRIM    ZN  INDUS  CHAS    NOX     RM   AGE     DIS  RAD    TAX  \\\n",
       "0    0.00632  18.0   2.31   0.0  0.538  6.575  65.2  4.0900  1.0  296.0   \n",
       "1    0.02731   0.0   7.07   0.0  0.469  6.421  78.9  4.9671  2.0  242.0   \n",
       "2    0.02729   0.0   7.07   0.0  0.469  7.185  61.1  4.9671  2.0  242.0   \n",
       "3    0.03237   0.0   2.18   0.0  0.458  6.998  45.8  6.0622  3.0  222.0   \n",
       "4    0.06905   0.0   2.18   0.0  0.458  7.147  54.2  6.0622  3.0  222.0   \n",
       "..       ...   ...    ...   ...    ...    ...   ...     ...  ...    ...   \n",
       "501  0.06263   0.0  11.93   0.0  0.573  6.593  69.1  2.4786  1.0  273.0   \n",
       "502  0.04527   0.0  11.93   0.0  0.573  6.120  76.7  2.2875  1.0  273.0   \n",
       "503  0.06076   0.0  11.93   0.0  0.573  6.976  91.0  2.1675  1.0  273.0   \n",
       "504  0.10959   0.0  11.93   0.0  0.573  6.794  89.3  2.3889  1.0  273.0   \n",
       "505  0.04741   0.0  11.93   0.0  0.573  6.030  80.8  2.5050  1.0  273.0   \n",
       "\n",
       "     PTRATIO       B  LSTAT  MEDV  \n",
       "0       15.3  396.90   4.98  24.0  \n",
       "1       17.8  396.90   9.14  21.6  \n",
       "2       17.8  392.83   4.03  34.7  \n",
       "3       18.7  394.63   2.94  33.4  \n",
       "4       18.7  396.90   5.33  36.2  \n",
       "..       ...     ...    ...   ...  \n",
       "501     21.0  391.99   9.67  22.4  \n",
       "502     21.0  396.90   9.08  20.6  \n",
       "503     21.0  396.90   5.64  23.9  \n",
       "504     21.0  393.45   6.48  22.0  \n",
       "505     21.0  396.90   7.88  11.9  \n",
       "\n",
       "[506 rows x 14 columns]"
      ]
     },
     "execution_count": 5,
     "metadata": {},
     "output_type": "execute_result"
    }
   ],
   "source": [
    "boston"
   ]
  },
  {
   "cell_type": "code",
   "execution_count": 6,
   "id": "a06d062a",
   "metadata": {
    "scrolled": true
   },
   "outputs": [
    {
     "name": "stdout",
     "output_type": "stream",
     "text": [
      "<class 'pandas.core.frame.DataFrame'>\n",
      "RangeIndex: 506 entries, 0 to 505\n",
      "Data columns (total 14 columns):\n",
      " #   Column   Non-Null Count  Dtype  \n",
      "---  ------   --------------  -----  \n",
      " 0   CRIM     506 non-null    float64\n",
      " 1   ZN       506 non-null    float64\n",
      " 2   INDUS    506 non-null    float64\n",
      " 3   CHAS     506 non-null    float64\n",
      " 4   NOX      506 non-null    float64\n",
      " 5   RM       506 non-null    float64\n",
      " 6   AGE      506 non-null    float64\n",
      " 7   DIS      506 non-null    float64\n",
      " 8   RAD      506 non-null    float64\n",
      " 9   TAX      506 non-null    float64\n",
      " 10  PTRATIO  506 non-null    float64\n",
      " 11  B        506 non-null    float64\n",
      " 12  LSTAT    506 non-null    float64\n",
      " 13  MEDV     506 non-null    float64\n",
      "dtypes: float64(14)\n",
      "memory usage: 55.5 KB\n"
     ]
    }
   ],
   "source": [
    "boston.info()"
   ]
  },
  {
   "cell_type": "markdown",
   "id": "ecec4fcd",
   "metadata": {},
   "source": [
    "**결측치 없음**"
   ]
  },
  {
   "cell_type": "markdown",
   "id": "c1b571b1",
   "metadata": {},
   "source": [
    "**특성 정보 확인**\n",
    "\n",
    "- CRIM : 범죄율\n",
    "- INDUS : 비소매 상업지역의 면적 비율 (-> 도매상업지역의 면적)\n",
    "- NOX : 대기 중 일산화질소의 농도\n",
    "- RM : 주택당 방의 개수\n",
    "- LSTAT : 인구 중 하위 계층의 비율\n",
    "- B : 인구 중 흑인 비율\n",
    "- PTRATIO : 학생, 교사 비율\n",
    "- ZN : 25,000 평방 피트를 초과한 거주지역의 비율\n",
    "- CHAS : 찰스강의 경게에 위치한 경우는 1, 아닌 경우는 0\n",
    "- AGE : 1940년 이전에 지어진 주택의 비율\n",
    "- DIS : 직업센터의 거리\n",
    "- TAX : 재산세율\n",
    "\n",
    "**종속변수 확인**\n",
    "\n",
    "- MEDV : 주택 가격 (집값)"
   ]
  },
  {
   "cell_type": "markdown",
   "id": "157dc4f6",
   "metadata": {},
   "source": [
    "### 3. 데이터 전처리\n",
    "\n",
    "- 결측치는 없다\n",
    "- 보스턴 주택 데이터는 학습용으로 제공된 데이터라 전처리 필요 없음 (데이터 깔끔함)"
   ]
  },
  {
   "cell_type": "markdown",
   "id": "8da9eba7",
   "metadata": {},
   "source": [
    "### 4. 탐색적 데이터 분석\n",
    "**생략**"
   ]
  },
  {
   "cell_type": "markdown",
   "id": "922cb555",
   "metadata": {},
   "source": [
    "### 5. 모델링\n",
    "\n",
    "1. 데이터 분리 (X_train, X_test, y_train, y_test)\n",
    "2. 모델 선정 및 학습 / 평가 / 예측"
   ]
  },
  {
   "cell_type": "code",
   "execution_count": 7,
   "id": "0945626d",
   "metadata": {},
   "outputs": [
    {
     "data": {
      "text/plain": [
       "((354, 13), (152, 13), (354,), (152,))"
      ]
     },
     "execution_count": 7,
     "metadata": {},
     "output_type": "execute_result"
    }
   ],
   "source": [
    "# 데이터 분리\n",
    "# step.1 : 데이터를 분리하기 위한 모듈\n",
    "from sklearn.model_selection import train_test_split\n",
    "\n",
    "# step.2 : 데이터를 분리 (y (정답 데이터는 MEDV 컬럼))\n",
    "# 현재 데이터 상태부터 확인 후 문제와 정답 train, test 모두 한곳에 있는 데이터\n",
    "# 문제와 정답을 분할 한 후 모듈을 실행\n",
    "X = boston.drop(\"MEDV\", axis=1)\n",
    "y = boston[\"MEDV\"]\n",
    "\n",
    "# train_test_split 모듈 실행\n",
    "X_train, X_test, y_train, y_test = train_test_split(X, y,\n",
    "                                                    test_size=0.3,\n",
    "                                                    random_state=8)\n",
    "\n",
    "\n",
    "# step.3 : 데이터 분할 확인\n",
    "X_train.shape, X_test.shape, y_train.shape, y_test.shape"
   ]
  },
  {
   "cell_type": "code",
   "execution_count": 8,
   "id": "3c7d4e35",
   "metadata": {},
   "outputs": [
    {
     "data": {
      "text/html": [
       "<div>\n",
       "<style scoped>\n",
       "    .dataframe tbody tr th:only-of-type {\n",
       "        vertical-align: middle;\n",
       "    }\n",
       "\n",
       "    .dataframe tbody tr th {\n",
       "        vertical-align: top;\n",
       "    }\n",
       "\n",
       "    .dataframe thead th {\n",
       "        text-align: right;\n",
       "    }\n",
       "</style>\n",
       "<table border=\"1\" class=\"dataframe\">\n",
       "  <thead>\n",
       "    <tr style=\"text-align: right;\">\n",
       "      <th></th>\n",
       "      <th>CRIM</th>\n",
       "      <th>ZN</th>\n",
       "      <th>INDUS</th>\n",
       "      <th>CHAS</th>\n",
       "      <th>NOX</th>\n",
       "      <th>RM</th>\n",
       "      <th>AGE</th>\n",
       "      <th>DIS</th>\n",
       "      <th>RAD</th>\n",
       "      <th>TAX</th>\n",
       "      <th>PTRATIO</th>\n",
       "      <th>B</th>\n",
       "      <th>LSTAT</th>\n",
       "      <th>MEDV</th>\n",
       "    </tr>\n",
       "  </thead>\n",
       "  <tbody>\n",
       "    <tr>\n",
       "      <th>CRIM</th>\n",
       "      <td>1.000000</td>\n",
       "      <td>-0.200469</td>\n",
       "      <td>0.406583</td>\n",
       "      <td>-0.055892</td>\n",
       "      <td>0.420972</td>\n",
       "      <td>-0.219247</td>\n",
       "      <td>0.352734</td>\n",
       "      <td>-0.379670</td>\n",
       "      <td>0.625505</td>\n",
       "      <td>0.582764</td>\n",
       "      <td>0.289946</td>\n",
       "      <td>-0.385064</td>\n",
       "      <td>0.455621</td>\n",
       "      <td>-0.388305</td>\n",
       "    </tr>\n",
       "    <tr>\n",
       "      <th>ZN</th>\n",
       "      <td>-0.200469</td>\n",
       "      <td>1.000000</td>\n",
       "      <td>-0.533828</td>\n",
       "      <td>-0.042697</td>\n",
       "      <td>-0.516604</td>\n",
       "      <td>0.311991</td>\n",
       "      <td>-0.569537</td>\n",
       "      <td>0.664408</td>\n",
       "      <td>-0.311948</td>\n",
       "      <td>-0.314563</td>\n",
       "      <td>-0.391679</td>\n",
       "      <td>0.175520</td>\n",
       "      <td>-0.412995</td>\n",
       "      <td>0.360445</td>\n",
       "    </tr>\n",
       "    <tr>\n",
       "      <th>INDUS</th>\n",
       "      <td>0.406583</td>\n",
       "      <td>-0.533828</td>\n",
       "      <td>1.000000</td>\n",
       "      <td>0.062938</td>\n",
       "      <td>0.763651</td>\n",
       "      <td>-0.391676</td>\n",
       "      <td>0.644779</td>\n",
       "      <td>-0.708027</td>\n",
       "      <td>0.595129</td>\n",
       "      <td>0.720760</td>\n",
       "      <td>0.383248</td>\n",
       "      <td>-0.356977</td>\n",
       "      <td>0.603800</td>\n",
       "      <td>-0.483725</td>\n",
       "    </tr>\n",
       "    <tr>\n",
       "      <th>CHAS</th>\n",
       "      <td>-0.055892</td>\n",
       "      <td>-0.042697</td>\n",
       "      <td>0.062938</td>\n",
       "      <td>1.000000</td>\n",
       "      <td>0.091203</td>\n",
       "      <td>0.091251</td>\n",
       "      <td>0.086518</td>\n",
       "      <td>-0.099176</td>\n",
       "      <td>-0.007368</td>\n",
       "      <td>-0.035587</td>\n",
       "      <td>-0.121515</td>\n",
       "      <td>0.048788</td>\n",
       "      <td>-0.053929</td>\n",
       "      <td>0.175260</td>\n",
       "    </tr>\n",
       "    <tr>\n",
       "      <th>NOX</th>\n",
       "      <td>0.420972</td>\n",
       "      <td>-0.516604</td>\n",
       "      <td>0.763651</td>\n",
       "      <td>0.091203</td>\n",
       "      <td>1.000000</td>\n",
       "      <td>-0.302188</td>\n",
       "      <td>0.731470</td>\n",
       "      <td>-0.769230</td>\n",
       "      <td>0.611441</td>\n",
       "      <td>0.668023</td>\n",
       "      <td>0.188933</td>\n",
       "      <td>-0.380051</td>\n",
       "      <td>0.590879</td>\n",
       "      <td>-0.427321</td>\n",
       "    </tr>\n",
       "    <tr>\n",
       "      <th>RM</th>\n",
       "      <td>-0.219247</td>\n",
       "      <td>0.311991</td>\n",
       "      <td>-0.391676</td>\n",
       "      <td>0.091251</td>\n",
       "      <td>-0.302188</td>\n",
       "      <td>1.000000</td>\n",
       "      <td>-0.240265</td>\n",
       "      <td>0.205246</td>\n",
       "      <td>-0.209847</td>\n",
       "      <td>-0.292048</td>\n",
       "      <td>-0.355501</td>\n",
       "      <td>0.128069</td>\n",
       "      <td>-0.613808</td>\n",
       "      <td>0.695360</td>\n",
       "    </tr>\n",
       "    <tr>\n",
       "      <th>AGE</th>\n",
       "      <td>0.352734</td>\n",
       "      <td>-0.569537</td>\n",
       "      <td>0.644779</td>\n",
       "      <td>0.086518</td>\n",
       "      <td>0.731470</td>\n",
       "      <td>-0.240265</td>\n",
       "      <td>1.000000</td>\n",
       "      <td>-0.747881</td>\n",
       "      <td>0.456022</td>\n",
       "      <td>0.506456</td>\n",
       "      <td>0.261515</td>\n",
       "      <td>-0.273534</td>\n",
       "      <td>0.602339</td>\n",
       "      <td>-0.376955</td>\n",
       "    </tr>\n",
       "    <tr>\n",
       "      <th>DIS</th>\n",
       "      <td>-0.379670</td>\n",
       "      <td>0.664408</td>\n",
       "      <td>-0.708027</td>\n",
       "      <td>-0.099176</td>\n",
       "      <td>-0.769230</td>\n",
       "      <td>0.205246</td>\n",
       "      <td>-0.747881</td>\n",
       "      <td>1.000000</td>\n",
       "      <td>-0.494588</td>\n",
       "      <td>-0.534432</td>\n",
       "      <td>-0.232471</td>\n",
       "      <td>0.291512</td>\n",
       "      <td>-0.496996</td>\n",
       "      <td>0.249929</td>\n",
       "    </tr>\n",
       "    <tr>\n",
       "      <th>RAD</th>\n",
       "      <td>0.625505</td>\n",
       "      <td>-0.311948</td>\n",
       "      <td>0.595129</td>\n",
       "      <td>-0.007368</td>\n",
       "      <td>0.611441</td>\n",
       "      <td>-0.209847</td>\n",
       "      <td>0.456022</td>\n",
       "      <td>-0.494588</td>\n",
       "      <td>1.000000</td>\n",
       "      <td>0.910228</td>\n",
       "      <td>0.464741</td>\n",
       "      <td>-0.444413</td>\n",
       "      <td>0.488676</td>\n",
       "      <td>-0.381626</td>\n",
       "    </tr>\n",
       "    <tr>\n",
       "      <th>TAX</th>\n",
       "      <td>0.582764</td>\n",
       "      <td>-0.314563</td>\n",
       "      <td>0.720760</td>\n",
       "      <td>-0.035587</td>\n",
       "      <td>0.668023</td>\n",
       "      <td>-0.292048</td>\n",
       "      <td>0.506456</td>\n",
       "      <td>-0.534432</td>\n",
       "      <td>0.910228</td>\n",
       "      <td>1.000000</td>\n",
       "      <td>0.460853</td>\n",
       "      <td>-0.441808</td>\n",
       "      <td>0.543993</td>\n",
       "      <td>-0.468536</td>\n",
       "    </tr>\n",
       "    <tr>\n",
       "      <th>PTRATIO</th>\n",
       "      <td>0.289946</td>\n",
       "      <td>-0.391679</td>\n",
       "      <td>0.383248</td>\n",
       "      <td>-0.121515</td>\n",
       "      <td>0.188933</td>\n",
       "      <td>-0.355501</td>\n",
       "      <td>0.261515</td>\n",
       "      <td>-0.232471</td>\n",
       "      <td>0.464741</td>\n",
       "      <td>0.460853</td>\n",
       "      <td>1.000000</td>\n",
       "      <td>-0.177383</td>\n",
       "      <td>0.374044</td>\n",
       "      <td>-0.507787</td>\n",
       "    </tr>\n",
       "    <tr>\n",
       "      <th>B</th>\n",
       "      <td>-0.385064</td>\n",
       "      <td>0.175520</td>\n",
       "      <td>-0.356977</td>\n",
       "      <td>0.048788</td>\n",
       "      <td>-0.380051</td>\n",
       "      <td>0.128069</td>\n",
       "      <td>-0.273534</td>\n",
       "      <td>0.291512</td>\n",
       "      <td>-0.444413</td>\n",
       "      <td>-0.441808</td>\n",
       "      <td>-0.177383</td>\n",
       "      <td>1.000000</td>\n",
       "      <td>-0.366087</td>\n",
       "      <td>0.333461</td>\n",
       "    </tr>\n",
       "    <tr>\n",
       "      <th>LSTAT</th>\n",
       "      <td>0.455621</td>\n",
       "      <td>-0.412995</td>\n",
       "      <td>0.603800</td>\n",
       "      <td>-0.053929</td>\n",
       "      <td>0.590879</td>\n",
       "      <td>-0.613808</td>\n",
       "      <td>0.602339</td>\n",
       "      <td>-0.496996</td>\n",
       "      <td>0.488676</td>\n",
       "      <td>0.543993</td>\n",
       "      <td>0.374044</td>\n",
       "      <td>-0.366087</td>\n",
       "      <td>1.000000</td>\n",
       "      <td>-0.737663</td>\n",
       "    </tr>\n",
       "    <tr>\n",
       "      <th>MEDV</th>\n",
       "      <td>-0.388305</td>\n",
       "      <td>0.360445</td>\n",
       "      <td>-0.483725</td>\n",
       "      <td>0.175260</td>\n",
       "      <td>-0.427321</td>\n",
       "      <td>0.695360</td>\n",
       "      <td>-0.376955</td>\n",
       "      <td>0.249929</td>\n",
       "      <td>-0.381626</td>\n",
       "      <td>-0.468536</td>\n",
       "      <td>-0.507787</td>\n",
       "      <td>0.333461</td>\n",
       "      <td>-0.737663</td>\n",
       "      <td>1.000000</td>\n",
       "    </tr>\n",
       "  </tbody>\n",
       "</table>\n",
       "</div>"
      ],
      "text/plain": [
       "             CRIM        ZN     INDUS      CHAS       NOX        RM       AGE  \\\n",
       "CRIM     1.000000 -0.200469  0.406583 -0.055892  0.420972 -0.219247  0.352734   \n",
       "ZN      -0.200469  1.000000 -0.533828 -0.042697 -0.516604  0.311991 -0.569537   \n",
       "INDUS    0.406583 -0.533828  1.000000  0.062938  0.763651 -0.391676  0.644779   \n",
       "CHAS    -0.055892 -0.042697  0.062938  1.000000  0.091203  0.091251  0.086518   \n",
       "NOX      0.420972 -0.516604  0.763651  0.091203  1.000000 -0.302188  0.731470   \n",
       "RM      -0.219247  0.311991 -0.391676  0.091251 -0.302188  1.000000 -0.240265   \n",
       "AGE      0.352734 -0.569537  0.644779  0.086518  0.731470 -0.240265  1.000000   \n",
       "DIS     -0.379670  0.664408 -0.708027 -0.099176 -0.769230  0.205246 -0.747881   \n",
       "RAD      0.625505 -0.311948  0.595129 -0.007368  0.611441 -0.209847  0.456022   \n",
       "TAX      0.582764 -0.314563  0.720760 -0.035587  0.668023 -0.292048  0.506456   \n",
       "PTRATIO  0.289946 -0.391679  0.383248 -0.121515  0.188933 -0.355501  0.261515   \n",
       "B       -0.385064  0.175520 -0.356977  0.048788 -0.380051  0.128069 -0.273534   \n",
       "LSTAT    0.455621 -0.412995  0.603800 -0.053929  0.590879 -0.613808  0.602339   \n",
       "MEDV    -0.388305  0.360445 -0.483725  0.175260 -0.427321  0.695360 -0.376955   \n",
       "\n",
       "              DIS       RAD       TAX   PTRATIO         B     LSTAT      MEDV  \n",
       "CRIM    -0.379670  0.625505  0.582764  0.289946 -0.385064  0.455621 -0.388305  \n",
       "ZN       0.664408 -0.311948 -0.314563 -0.391679  0.175520 -0.412995  0.360445  \n",
       "INDUS   -0.708027  0.595129  0.720760  0.383248 -0.356977  0.603800 -0.483725  \n",
       "CHAS    -0.099176 -0.007368 -0.035587 -0.121515  0.048788 -0.053929  0.175260  \n",
       "NOX     -0.769230  0.611441  0.668023  0.188933 -0.380051  0.590879 -0.427321  \n",
       "RM       0.205246 -0.209847 -0.292048 -0.355501  0.128069 -0.613808  0.695360  \n",
       "AGE     -0.747881  0.456022  0.506456  0.261515 -0.273534  0.602339 -0.376955  \n",
       "DIS      1.000000 -0.494588 -0.534432 -0.232471  0.291512 -0.496996  0.249929  \n",
       "RAD     -0.494588  1.000000  0.910228  0.464741 -0.444413  0.488676 -0.381626  \n",
       "TAX     -0.534432  0.910228  1.000000  0.460853 -0.441808  0.543993 -0.468536  \n",
       "PTRATIO -0.232471  0.464741  0.460853  1.000000 -0.177383  0.374044 -0.507787  \n",
       "B        0.291512 -0.444413 -0.441808 -0.177383  1.000000 -0.366087  0.333461  \n",
       "LSTAT   -0.496996  0.488676  0.543993  0.374044 -0.366087  1.000000 -0.737663  \n",
       "MEDV     0.249929 -0.381626 -0.468536 -0.507787  0.333461 -0.737663  1.000000  "
      ]
     },
     "execution_count": 8,
     "metadata": {},
     "output_type": "execute_result"
    }
   ],
   "source": [
    "boston.corr()"
   ]
  },
  {
   "cell_type": "code",
   "execution_count": 9,
   "id": "62575fac",
   "metadata": {
    "scrolled": true
   },
   "outputs": [
    {
     "data": {
      "text/plain": [
       "<Axes: >"
      ]
     },
     "execution_count": 9,
     "metadata": {},
     "output_type": "execute_result"
    },
    {
     "data": {
      "image/png": "[encoded data removed]",
      "text/plain": [
       "<Figure size 1500x1500 with 2 Axes>"
      ]
     },
     "metadata": {},
     "output_type": "display_data"
    }
   ],
   "source": [
    "# 상관계수를 히트맵으로 출력\n",
    "\n",
    "plt.figure(figsize=(15, 15))\n",
    "sns.heatmap(data= X_train.corr(),\n",
    "            annot= True, # 히트맵 내부에 글씨\n",
    "            annot_kws={\"size\" : 12}, # 내부 글씨의 옵션 (글씨의 크기)\n",
    "            fmt= \".2f\", # 소수점 자리 출력\n",
    "            cmap= \"gray\" # 히트멥 색상\n",
    "            )"
   ]
  },
  {
   "cell_type": "code",
   "execution_count": 10,
   "id": "0c13097f",
   "metadata": {},
   "outputs": [],
   "source": [
    "# 선형회귀 모델 사용\n",
    "# 1. 모델 import\n",
    "\n",
    "from sklearn.linear_model import LinearRegression"
   ]
  },
  {
   "cell_type": "code",
   "execution_count": 11,
   "id": "9b5e176e",
   "metadata": {},
   "outputs": [],
   "source": [
    "# 2. 모델 객체 생성\n",
    "\n",
    "lm = LinearRegression()"
   ]
  },
  {
   "cell_type": "code",
   "execution_count": 12,
   "id": "6f401aaa",
   "metadata": {},
   "outputs": [
    {
     "data": {
      "text/html": [
       "<style>#sk-container-id-1 {color: black;background-color: white;}#sk-container-id-1 pre{padding: 0;}#sk-container-id-1 div.sk-toggleable {background-color: white;}#sk-container-id-1 label.sk-toggleable__label {cursor: pointer;display: block;width: 100%;margin-bottom: 0;padding: 0.3em;box-sizing: border-box;text-align: center;}#sk-container-id-1 label.sk-toggleable__label-arrow:before {content: \"▸\";float: left;margin-right: 0.25em;color: #696969;}#sk-container-id-1 label.sk-toggleable__label-arrow:hover:before {color: black;}#sk-container-id-1 div.sk-estimator:hover label.sk-toggleable__label-arrow:before {color: black;}#sk-container-id-1 div.sk-toggleable__content {max-height: 0;max-width: 0;overflow: hidden;text-align: left;background-color: #f0f8ff;}#sk-container-id-1 div.sk-toggleable__content pre {margin: 0.2em;color: black;border-radius: 0.25em;background-color: #f0f8ff;}#sk-container-id-1 input.sk-toggleable__control:checked~div.sk-toggleable__content {max-height: 200px;max-width: 100%;overflow: auto;}#sk-container-id-1 input.sk-toggleable__control:checked~label.sk-toggleable__label-arrow:before {content: \"▾\";}#sk-container-id-1 div.sk-estimator input.sk-toggleable__control:checked~label.sk-toggleable__label {background-color: #d4ebff;}#sk-container-id-1 div.sk-label input.sk-toggleable__control:checked~label.sk-toggleable__label {background-color: #d4ebff;}#sk-container-id-1 input.sk-hidden--visually {border: 0;clip: rect(1px 1px 1px 1px);clip: rect(1px, 1px, 1px, 1px);height: 1px;margin: -1px;overflow: hidden;padding: 0;position: absolute;width: 1px;}#sk-container-id-1 div.sk-estimator {font-family: monospace;background-color: #f0f8ff;border: 1px dotted black;border-radius: 0.25em;box-sizing: border-box;margin-bottom: 0.5em;}#sk-container-id-1 div.sk-estimator:hover {background-color: #d4ebff;}#sk-container-id-1 div.sk-parallel-item::after {content: \"\";width: 100%;border-bottom: 1px solid gray;flex-grow: 1;}#sk-container-id-1 div.sk-label:hover label.sk-toggleable__label {background-color: #d4ebff;}#sk-container-id-1 div.sk-serial::before {content: \"\";position: absolute;border-left: 1px solid gray;box-sizing: border-box;top: 0;bottom: 0;left: 50%;z-index: 0;}#sk-container-id-1 div.sk-serial {display: flex;flex-direction: column;align-items: center;background-color: white;padding-right: 0.2em;padding-left: 0.2em;position: relative;}#sk-container-id-1 div.sk-item {position: relative;z-index: 1;}#sk-container-id-1 div.sk-parallel {display: flex;align-items: stretch;justify-content: center;background-color: white;position: relative;}#sk-container-id-1 div.sk-item::before, #sk-container-id-1 div.sk-parallel-item::before {content: \"\";position: absolute;border-left: 1px solid gray;box-sizing: border-box;top: 0;bottom: 0;left: 50%;z-index: -1;}#sk-container-id-1 div.sk-parallel-item {display: flex;flex-direction: column;z-index: 1;position: relative;background-color: white;}#sk-container-id-1 div.sk-parallel-item:first-child::after {align-self: flex-end;width: 50%;}#sk-container-id-1 div.sk-parallel-item:last-child::after {align-self: flex-start;width: 50%;}#sk-container-id-1 div.sk-parallel-item:only-child::after {width: 0;}#sk-container-id-1 div.sk-dashed-wrapped {border: 1px dashed gray;margin: 0 0.4em 0.5em 0.4em;box-sizing: border-box;padding-bottom: 0.4em;background-color: white;}#sk-container-id-1 div.sk-label label {font-family: monospace;font-weight: bold;display: inline-block;line-height: 1.2em;}#sk-container-id-1 div.sk-label-container {text-align: center;}#sk-container-id-1 div.sk-container {/* jupyter's `normalize.less` sets `[hidden] { display: none; }` but bootstrap.min.css set `[hidden] { display: none !important; }` so we also need the `!important` here to be able to override the default hidden behavior on the sphinx rendered scikit-learn.org. See: https://github.com/scikit-learn/scikit-learn/issues/21755 */display: inline-block !important;position: relative;}#sk-container-id-1 div.sk-text-repr-fallback {display: none;}</style><div id=\"sk-container-id-1\" class=\"sk-top-container\"><div class=\"sk-text-repr-fallback\"><pre>LinearRegression()</pre><b>In a Jupyter environment, please rerun this cell to show the HTML representation or trust the notebook. <br />On GitHub, the HTML representation is unable to render, please try loading this page with nbviewer.org.</b></div><div class=\"sk-container\" hidden><div class=\"sk-item\"><div class=\"sk-estimator sk-toggleable\"><input class=\"sk-toggleable__control sk-hidden--visually\" id=\"sk-estimator-id-1\" type=\"checkbox\" checked><label for=\"sk-estimator-id-1\" class=\"sk-toggleable__label sk-toggleable__label-arrow\">LinearRegression</label><div class=\"sk-toggleable__content\"><pre>LinearRegression()</pre></div></div></div></div></div>"
      ],
      "text/plain": [
       "LinearRegression()"
      ]
     },
     "execution_count": 12,
     "metadata": {},
     "output_type": "execute_result"
    }
   ],
   "source": [
    "# 3. 모델 학습\n",
    "\n",
    "lm.fit(X_train, y_train)"
   ]
  },
  {
   "cell_type": "code",
   "execution_count": 13,
   "id": "4a5bd0ea",
   "metadata": {},
   "outputs": [
    {
     "name": "stdout",
     "output_type": "stream",
     "text": [
      "[0.77594119 0.7051459  0.82354719 0.52256368 0.80309716 0.49041329]\n",
      "0.6867847360632918\n"
     ]
    }
   ],
   "source": [
    "# 4. 교차 검증\n",
    "\n",
    "from sklearn.model_selection import cross_val_score\n",
    "\n",
    "result = cross_val_score(lm, X_train, y_train, cv = 6)\n",
    "print(result)\n",
    "print(result.mean())"
   ]
  },
  {
   "cell_type": "code",
   "execution_count": 14,
   "id": "4620e275",
   "metadata": {},
   "outputs": [
    {
     "data": {
      "text/plain": [
       "array([-1.08934120e-01,  5.31327453e-02,  2.34402817e-02,  2.48890273e+00,\n",
       "       -1.22283083e+01,  3.88090530e+00, -8.65043560e-03, -1.39279889e+00,\n",
       "        2.72090186e-01, -1.11667903e-02, -9.34401294e-01,  1.05766056e-02,\n",
       "       -5.59850621e-01])"
      ]
     },
     "execution_count": 14,
     "metadata": {},
     "output_type": "execute_result"
    }
   ],
   "source": [
    "# 가중치 W 확인\n",
    "\n",
    "lm.coef_"
   ]
  },
  {
   "cell_type": "code",
   "execution_count": 15,
   "id": "8ecaed85",
   "metadata": {},
   "outputs": [
    {
     "data": {
      "text/plain": [
       "32.75619254730977"
      ]
     },
     "execution_count": 15,
     "metadata": {},
     "output_type": "execute_result"
    }
   ],
   "source": [
    "# 편향 B값 확인\n",
    "\n",
    "lm.intercept_"
   ]
  },
  {
   "cell_type": "code",
   "execution_count": 16,
   "id": "e85e6707",
   "metadata": {},
   "outputs": [],
   "source": [
    "import warnings\n",
    "warnings.filterwarnings(\"ignore\")"
   ]
  },
  {
   "cell_type": "code",
   "execution_count": 17,
   "id": "691b87f1",
   "metadata": {
    "scrolled": true
   },
   "outputs": [],
   "source": [
    "# 정답 예측\n",
    "\n",
    "pre = lm.predict(X_test)"
   ]
  },
  {
   "cell_type": "markdown",
   "id": "0f8247ba",
   "metadata": {},
   "source": [
    "회귀 평가 지표를 이용하여 모델 평가 실행\\\n",
    "MSE. MAE, RMSE, R2 스코어"
   ]
  },
  {
   "cell_type": "code",
   "execution_count": 18,
   "id": "fa96f2c4",
   "metadata": {},
   "outputs": [],
   "source": [
    "# 평가지표 import\n",
    "# \n",
    "\n",
    "from sklearn.metrics import mean_squared_error # 평균 제곱 오차\n",
    "from sklearn.metrics import mean_absolute_error # 평균 절대 오차\n",
    "from sklearn.metrics import r2_score # r2 스코어"
   ]
  },
  {
   "cell_type": "code",
   "execution_count": 19,
   "id": "db6f5e9b",
   "metadata": {},
   "outputs": [
    {
     "data": {
      "text/plain": [
       "23.716180926283442"
      ]
     },
     "execution_count": 19,
     "metadata": {},
     "output_type": "execute_result"
    }
   ],
   "source": [
    "# MSE 사용\n",
    "\n",
    "mean_squared_error(pre, y_test)"
   ]
  },
  {
   "cell_type": "code",
   "execution_count": 20,
   "id": "e8f21549",
   "metadata": {},
   "outputs": [
    {
     "data": {
      "text/plain": [
       "4.869926172570119"
      ]
     },
     "execution_count": 20,
     "metadata": {},
     "output_type": "execute_result"
    }
   ],
   "source": [
    "# RMSE 사용\n",
    "# 사이킷런 내부에서 지원하지 않음 - 넘파이에 있는 sqrt 함수\n",
    "\n",
    "np.sqrt(mean_squared_error(pre, y_test))"
   ]
  },
  {
   "cell_type": "code",
   "execution_count": 21,
   "id": "c80173a6",
   "metadata": {},
   "outputs": [
    {
     "data": {
      "text/plain": [
       "3.4532926552623264"
      ]
     },
     "execution_count": 21,
     "metadata": {},
     "output_type": "execute_result"
    }
   ],
   "source": [
    "# MAE 사용\n",
    "\n",
    "mean_absolute_error(pre, y_test)"
   ]
  },
  {
   "cell_type": "code",
   "execution_count": 22,
   "id": "1b79e4e4",
   "metadata": {},
   "outputs": [
    {
     "data": {
      "text/plain": [
       "0.6570277457568254"
      ]
     },
     "execution_count": 22,
     "metadata": {},
     "output_type": "execute_result"
    }
   ],
   "source": [
    "# r2 스코어 사용\n",
    "\n",
    "r2_score(pre, y_test)"
   ]
  },
  {
   "cell_type": "markdown",
   "id": "cc4b2635",
   "metadata": {},
   "source": [
    "# 0809\n",
    "\n",
    "- 현재 회귀모델은 성능이 그리 좋은 편은 아님\n",
    "- 일반적으로 선형회귀 모델은 데이터의 특성이 많을수록 성능이 좋아짐\n",
    "- 특성이 적은 경우 선형회귀 모델이 간단(단순) 해짐 → 성능이 낮아짐\n",
    "- = 모델을 제어할 수 있는 하이퍼 파라미터 조정이 불가능해지기 때문\n",
    "\n",
    "### 목표 설정\n",
    "**특성 곱을 이용하여 새로운 특성을 만들어보기**\\\n",
    "= **원본 데이터 프레임 복사하기**"
   ]
  },
  {
   "cell_type": "markdown",
   "id": "a32c71ee",
   "metadata": {},
   "source": [
    "**원본 데이터 프레임 복사하기**"
   ]
  },
  {
   "cell_type": "code",
   "execution_count": 23,
   "id": "9be36476",
   "metadata": {},
   "outputs": [],
   "source": [
    "# copy() = 데이터 프레임의 현재 상태를 복사, 복사 당시의 데이터 프레임 상태만 복사하는 깊은 복사\n",
    "\n",
    "X_train_copy = X_train.copy()"
   ]
  },
  {
   "cell_type": "code",
   "execution_count": 24,
   "id": "592f5912",
   "metadata": {},
   "outputs": [],
   "source": [
    "# 기존의 훈련용 문제 데이터에 훈련용 정답 컬럼을 추가\n",
    "# 정답을 포함한 상관간계를 파악하기 위해 → 정답 컬럼을 추가함\n",
    "\n",
    "X_train_copy[\"MEDV\"] = y_train"
   ]
  },
  {
   "cell_type": "code",
   "execution_count": 25,
   "id": "af201085",
   "metadata": {},
   "outputs": [
    {
     "name": "stdout",
     "output_type": "stream",
     "text": [
      "<class 'pandas.core.frame.DataFrame'>\n",
      "Int64Index: 354 entries, 17 to 451\n",
      "Data columns (total 14 columns):\n",
      " #   Column   Non-Null Count  Dtype  \n",
      "---  ------   --------------  -----  \n",
      " 0   CRIM     354 non-null    float64\n",
      " 1   ZN       354 non-null    float64\n",
      " 2   INDUS    354 non-null    float64\n",
      " 3   CHAS     354 non-null    float64\n",
      " 4   NOX      354 non-null    float64\n",
      " 5   RM       354 non-null    float64\n",
      " 6   AGE      354 non-null    float64\n",
      " 7   DIS      354 non-null    float64\n",
      " 8   RAD      354 non-null    float64\n",
      " 9   TAX      354 non-null    float64\n",
      " 10  PTRATIO  354 non-null    float64\n",
      " 11  B        354 non-null    float64\n",
      " 12  LSTAT    354 non-null    float64\n",
      " 13  MEDV     354 non-null    float64\n",
      "dtypes: float64(14)\n",
      "memory usage: 41.5 KB\n"
     ]
    }
   ],
   "source": [
    "# 데이터 프레임의 형태가 바뀜 (shape, info)\n",
    "\n",
    "X_train_copy.info()"
   ]
  },
  {
   "cell_type": "code",
   "execution_count": 26,
   "id": "d05e93fe",
   "metadata": {},
   "outputs": [
    {
     "data": {
      "text/plain": [
       "(354, 14)"
      ]
     },
     "execution_count": 26,
     "metadata": {},
     "output_type": "execute_result"
    }
   ],
   "source": [
    "X_train_copy.shape"
   ]
  },
  {
   "cell_type": "code",
   "execution_count": 27,
   "id": "f6e76ddc",
   "metadata": {},
   "outputs": [
    {
     "data": {
      "text/html": [
       "<div>\n",
       "<style scoped>\n",
       "    .dataframe tbody tr th:only-of-type {\n",
       "        vertical-align: middle;\n",
       "    }\n",
       "\n",
       "    .dataframe tbody tr th {\n",
       "        vertical-align: top;\n",
       "    }\n",
       "\n",
       "    .dataframe thead th {\n",
       "        text-align: right;\n",
       "    }\n",
       "</style>\n",
       "<table border=\"1\" class=\"dataframe\">\n",
       "  <thead>\n",
       "    <tr style=\"text-align: right;\">\n",
       "      <th></th>\n",
       "      <th>CRIM</th>\n",
       "      <th>ZN</th>\n",
       "      <th>INDUS</th>\n",
       "      <th>CHAS</th>\n",
       "      <th>NOX</th>\n",
       "      <th>RM</th>\n",
       "      <th>AGE</th>\n",
       "      <th>DIS</th>\n",
       "      <th>RAD</th>\n",
       "      <th>TAX</th>\n",
       "      <th>PTRATIO</th>\n",
       "      <th>B</th>\n",
       "      <th>LSTAT</th>\n",
       "      <th>MEDV</th>\n",
       "    </tr>\n",
       "  </thead>\n",
       "  <tbody>\n",
       "    <tr>\n",
       "      <th>CRIM</th>\n",
       "      <td>1.000000</td>\n",
       "      <td>-0.182937</td>\n",
       "      <td>0.376299</td>\n",
       "      <td>-0.060861</td>\n",
       "      <td>0.403308</td>\n",
       "      <td>-0.171128</td>\n",
       "      <td>0.340789</td>\n",
       "      <td>-0.362843</td>\n",
       "      <td>0.594251</td>\n",
       "      <td>0.545004</td>\n",
       "      <td>0.267743</td>\n",
       "      <td>-0.348000</td>\n",
       "      <td>0.415125</td>\n",
       "      <td>-0.367320</td>\n",
       "    </tr>\n",
       "    <tr>\n",
       "      <th>ZN</th>\n",
       "      <td>-0.182937</td>\n",
       "      <td>1.000000</td>\n",
       "      <td>-0.522421</td>\n",
       "      <td>-0.028334</td>\n",
       "      <td>-0.510633</td>\n",
       "      <td>0.355158</td>\n",
       "      <td>-0.558727</td>\n",
       "      <td>0.636020</td>\n",
       "      <td>-0.301522</td>\n",
       "      <td>-0.313148</td>\n",
       "      <td>-0.382122</td>\n",
       "      <td>0.179154</td>\n",
       "      <td>-0.432618</td>\n",
       "      <td>0.409318</td>\n",
       "    </tr>\n",
       "    <tr>\n",
       "      <th>INDUS</th>\n",
       "      <td>0.376299</td>\n",
       "      <td>-0.522421</td>\n",
       "      <td>1.000000</td>\n",
       "      <td>0.036183</td>\n",
       "      <td>0.769310</td>\n",
       "      <td>-0.399291</td>\n",
       "      <td>0.643300</td>\n",
       "      <td>-0.711740</td>\n",
       "      <td>0.579389</td>\n",
       "      <td>0.725878</td>\n",
       "      <td>0.383825</td>\n",
       "      <td>-0.355823</td>\n",
       "      <td>0.619686</td>\n",
       "      <td>-0.500334</td>\n",
       "    </tr>\n",
       "    <tr>\n",
       "      <th>CHAS</th>\n",
       "      <td>-0.060861</td>\n",
       "      <td>-0.028334</td>\n",
       "      <td>0.036183</td>\n",
       "      <td>1.000000</td>\n",
       "      <td>0.089168</td>\n",
       "      <td>0.054014</td>\n",
       "      <td>0.071898</td>\n",
       "      <td>-0.090506</td>\n",
       "      <td>-0.019416</td>\n",
       "      <td>-0.060153</td>\n",
       "      <td>-0.174327</td>\n",
       "      <td>0.046020</td>\n",
       "      <td>-0.054811</td>\n",
       "      <td>0.173157</td>\n",
       "    </tr>\n",
       "    <tr>\n",
       "      <th>NOX</th>\n",
       "      <td>0.403308</td>\n",
       "      <td>-0.510633</td>\n",
       "      <td>0.769310</td>\n",
       "      <td>0.089168</td>\n",
       "      <td>1.000000</td>\n",
       "      <td>-0.330699</td>\n",
       "      <td>0.713332</td>\n",
       "      <td>-0.764739</td>\n",
       "      <td>0.625537</td>\n",
       "      <td>0.683354</td>\n",
       "      <td>0.222476</td>\n",
       "      <td>-0.375495</td>\n",
       "      <td>0.622120</td>\n",
       "      <td>-0.450981</td>\n",
       "    </tr>\n",
       "    <tr>\n",
       "      <th>RM</th>\n",
       "      <td>-0.171128</td>\n",
       "      <td>0.355158</td>\n",
       "      <td>-0.399291</td>\n",
       "      <td>0.054014</td>\n",
       "      <td>-0.330699</td>\n",
       "      <td>1.000000</td>\n",
       "      <td>-0.258584</td>\n",
       "      <td>0.221348</td>\n",
       "      <td>-0.179420</td>\n",
       "      <td>-0.273715</td>\n",
       "      <td>-0.346742</td>\n",
       "      <td>0.107636</td>\n",
       "      <td>-0.597224</td>\n",
       "      <td>0.682933</td>\n",
       "    </tr>\n",
       "    <tr>\n",
       "      <th>AGE</th>\n",
       "      <td>0.340789</td>\n",
       "      <td>-0.558727</td>\n",
       "      <td>0.643300</td>\n",
       "      <td>0.071898</td>\n",
       "      <td>0.713332</td>\n",
       "      <td>-0.258584</td>\n",
       "      <td>1.000000</td>\n",
       "      <td>-0.717366</td>\n",
       "      <td>0.456727</td>\n",
       "      <td>0.509456</td>\n",
       "      <td>0.283653</td>\n",
       "      <td>-0.266401</td>\n",
       "      <td>0.609375</td>\n",
       "      <td>-0.416446</td>\n",
       "    </tr>\n",
       "    <tr>\n",
       "      <th>DIS</th>\n",
       "      <td>-0.362843</td>\n",
       "      <td>0.636020</td>\n",
       "      <td>-0.711740</td>\n",
       "      <td>-0.090506</td>\n",
       "      <td>-0.764739</td>\n",
       "      <td>0.221348</td>\n",
       "      <td>-0.717366</td>\n",
       "      <td>1.000000</td>\n",
       "      <td>-0.491937</td>\n",
       "      <td>-0.543658</td>\n",
       "      <td>-0.245896</td>\n",
       "      <td>0.293658</td>\n",
       "      <td>-0.503820</td>\n",
       "      <td>0.277109</td>\n",
       "    </tr>\n",
       "    <tr>\n",
       "      <th>RAD</th>\n",
       "      <td>0.594251</td>\n",
       "      <td>-0.301522</td>\n",
       "      <td>0.579389</td>\n",
       "      <td>-0.019416</td>\n",
       "      <td>0.625537</td>\n",
       "      <td>-0.179420</td>\n",
       "      <td>0.456727</td>\n",
       "      <td>-0.491937</td>\n",
       "      <td>1.000000</td>\n",
       "      <td>0.894749</td>\n",
       "      <td>0.451842</td>\n",
       "      <td>-0.459237</td>\n",
       "      <td>0.465304</td>\n",
       "      <td>-0.371693</td>\n",
       "    </tr>\n",
       "    <tr>\n",
       "      <th>TAX</th>\n",
       "      <td>0.545004</td>\n",
       "      <td>-0.313148</td>\n",
       "      <td>0.725878</td>\n",
       "      <td>-0.060153</td>\n",
       "      <td>0.683354</td>\n",
       "      <td>-0.273715</td>\n",
       "      <td>0.509456</td>\n",
       "      <td>-0.543658</td>\n",
       "      <td>0.894749</td>\n",
       "      <td>1.000000</td>\n",
       "      <td>0.460166</td>\n",
       "      <td>-0.449736</td>\n",
       "      <td>0.536399</td>\n",
       "      <td>-0.468239</td>\n",
       "    </tr>\n",
       "    <tr>\n",
       "      <th>PTRATIO</th>\n",
       "      <td>0.267743</td>\n",
       "      <td>-0.382122</td>\n",
       "      <td>0.383825</td>\n",
       "      <td>-0.174327</td>\n",
       "      <td>0.222476</td>\n",
       "      <td>-0.346742</td>\n",
       "      <td>0.283653</td>\n",
       "      <td>-0.245896</td>\n",
       "      <td>0.451842</td>\n",
       "      <td>0.460166</td>\n",
       "      <td>1.000000</td>\n",
       "      <td>-0.186885</td>\n",
       "      <td>0.360717</td>\n",
       "      <td>-0.513930</td>\n",
       "    </tr>\n",
       "    <tr>\n",
       "      <th>B</th>\n",
       "      <td>-0.348000</td>\n",
       "      <td>0.179154</td>\n",
       "      <td>-0.355823</td>\n",
       "      <td>0.046020</td>\n",
       "      <td>-0.375495</td>\n",
       "      <td>0.107636</td>\n",
       "      <td>-0.266401</td>\n",
       "      <td>0.293658</td>\n",
       "      <td>-0.459237</td>\n",
       "      <td>-0.449736</td>\n",
       "      <td>-0.186885</td>\n",
       "      <td>1.000000</td>\n",
       "      <td>-0.353329</td>\n",
       "      <td>0.334972</td>\n",
       "    </tr>\n",
       "    <tr>\n",
       "      <th>LSTAT</th>\n",
       "      <td>0.415125</td>\n",
       "      <td>-0.432618</td>\n",
       "      <td>0.619686</td>\n",
       "      <td>-0.054811</td>\n",
       "      <td>0.622120</td>\n",
       "      <td>-0.597224</td>\n",
       "      <td>0.609375</td>\n",
       "      <td>-0.503820</td>\n",
       "      <td>0.465304</td>\n",
       "      <td>0.536399</td>\n",
       "      <td>0.360717</td>\n",
       "      <td>-0.353329</td>\n",
       "      <td>1.000000</td>\n",
       "      <td>-0.750401</td>\n",
       "    </tr>\n",
       "    <tr>\n",
       "      <th>MEDV</th>\n",
       "      <td>-0.367320</td>\n",
       "      <td>0.409318</td>\n",
       "      <td>-0.500334</td>\n",
       "      <td>0.173157</td>\n",
       "      <td>-0.450981</td>\n",
       "      <td>0.682933</td>\n",
       "      <td>-0.416446</td>\n",
       "      <td>0.277109</td>\n",
       "      <td>-0.371693</td>\n",
       "      <td>-0.468239</td>\n",
       "      <td>-0.513930</td>\n",
       "      <td>0.334972</td>\n",
       "      <td>-0.750401</td>\n",
       "      <td>1.000000</td>\n",
       "    </tr>\n",
       "  </tbody>\n",
       "</table>\n",
       "</div>"
      ],
      "text/plain": [
       "             CRIM        ZN     INDUS      CHAS       NOX        RM       AGE  \\\n",
       "CRIM     1.000000 -0.182937  0.376299 -0.060861  0.403308 -0.171128  0.340789   \n",
       "ZN      -0.182937  1.000000 -0.522421 -0.028334 -0.510633  0.355158 -0.558727   \n",
       "INDUS    0.376299 -0.522421  1.000000  0.036183  0.769310 -0.399291  0.643300   \n",
       "CHAS    -0.060861 -0.028334  0.036183  1.000000  0.089168  0.054014  0.071898   \n",
       "NOX      0.403308 -0.510633  0.769310  0.089168  1.000000 -0.330699  0.713332   \n",
       "RM      -0.171128  0.355158 -0.399291  0.054014 -0.330699  1.000000 -0.258584   \n",
       "AGE      0.340789 -0.558727  0.643300  0.071898  0.713332 -0.258584  1.000000   \n",
       "DIS     -0.362843  0.636020 -0.711740 -0.090506 -0.764739  0.221348 -0.717366   \n",
       "RAD      0.594251 -0.301522  0.579389 -0.019416  0.625537 -0.179420  0.456727   \n",
       "TAX      0.545004 -0.313148  0.725878 -0.060153  0.683354 -0.273715  0.509456   \n",
       "PTRATIO  0.267743 -0.382122  0.383825 -0.174327  0.222476 -0.346742  0.283653   \n",
       "B       -0.348000  0.179154 -0.355823  0.046020 -0.375495  0.107636 -0.266401   \n",
       "LSTAT    0.415125 -0.432618  0.619686 -0.054811  0.622120 -0.597224  0.609375   \n",
       "MEDV    -0.367320  0.409318 -0.500334  0.173157 -0.450981  0.682933 -0.416446   \n",
       "\n",
       "              DIS       RAD       TAX   PTRATIO         B     LSTAT      MEDV  \n",
       "CRIM    -0.362843  0.594251  0.545004  0.267743 -0.348000  0.415125 -0.367320  \n",
       "ZN       0.636020 -0.301522 -0.313148 -0.382122  0.179154 -0.432618  0.409318  \n",
       "INDUS   -0.711740  0.579389  0.725878  0.383825 -0.355823  0.619686 -0.500334  \n",
       "CHAS    -0.090506 -0.019416 -0.060153 -0.174327  0.046020 -0.054811  0.173157  \n",
       "NOX     -0.764739  0.625537  0.683354  0.222476 -0.375495  0.622120 -0.450981  \n",
       "RM       0.221348 -0.179420 -0.273715 -0.346742  0.107636 -0.597224  0.682933  \n",
       "AGE     -0.717366  0.456727  0.509456  0.283653 -0.266401  0.609375 -0.416446  \n",
       "DIS      1.000000 -0.491937 -0.543658 -0.245896  0.293658 -0.503820  0.277109  \n",
       "RAD     -0.491937  1.000000  0.894749  0.451842 -0.459237  0.465304 -0.371693  \n",
       "TAX     -0.543658  0.894749  1.000000  0.460166 -0.449736  0.536399 -0.468239  \n",
       "PTRATIO -0.245896  0.451842  0.460166  1.000000 -0.186885  0.360717 -0.513930  \n",
       "B        0.293658 -0.459237 -0.449736 -0.186885  1.000000 -0.353329  0.334972  \n",
       "LSTAT   -0.503820  0.465304  0.536399  0.360717 -0.353329  1.000000 -0.750401  \n",
       "MEDV     0.277109 -0.371693 -0.468239 -0.513930  0.334972 -0.750401  1.000000  "
      ]
     },
     "execution_count": 27,
     "metadata": {},
     "output_type": "execute_result"
    }
   ],
   "source": [
    "# 훈련용 데이터 상관관계 확인\n",
    "\n",
    "X_train_copy.corr()"
   ]
  },
  {
   "cell_type": "markdown",
   "id": "0b6cc5bb",
   "metadata": {},
   "source": [
    "- 현재 MEDV 컬럼의 관계가 섞여있음, 정리를 한 후 확인해보기"
   ]
  },
  {
   "cell_type": "code",
   "execution_count": 28,
   "id": "371a9143",
   "metadata": {},
   "outputs": [
    {
     "data": {
      "text/html": [
       "<div>\n",
       "<style scoped>\n",
       "    .dataframe tbody tr th:only-of-type {\n",
       "        vertical-align: middle;\n",
       "    }\n",
       "\n",
       "    .dataframe tbody tr th {\n",
       "        vertical-align: top;\n",
       "    }\n",
       "\n",
       "    .dataframe thead th {\n",
       "        text-align: right;\n",
       "    }\n",
       "</style>\n",
       "<table border=\"1\" class=\"dataframe\">\n",
       "  <thead>\n",
       "    <tr style=\"text-align: right;\">\n",
       "      <th></th>\n",
       "      <th>CRIM</th>\n",
       "      <th>ZN</th>\n",
       "      <th>INDUS</th>\n",
       "      <th>CHAS</th>\n",
       "      <th>NOX</th>\n",
       "      <th>RM</th>\n",
       "      <th>AGE</th>\n",
       "      <th>DIS</th>\n",
       "      <th>RAD</th>\n",
       "      <th>TAX</th>\n",
       "      <th>PTRATIO</th>\n",
       "      <th>B</th>\n",
       "      <th>LSTAT</th>\n",
       "      <th>MEDV</th>\n",
       "    </tr>\n",
       "  </thead>\n",
       "  <tbody>\n",
       "    <tr>\n",
       "      <th>MEDV</th>\n",
       "      <td>0.367320</td>\n",
       "      <td>0.409318</td>\n",
       "      <td>0.500334</td>\n",
       "      <td>0.173157</td>\n",
       "      <td>0.450981</td>\n",
       "      <td>0.682933</td>\n",
       "      <td>0.416446</td>\n",
       "      <td>0.277109</td>\n",
       "      <td>0.371693</td>\n",
       "      <td>0.468239</td>\n",
       "      <td>0.513930</td>\n",
       "      <td>0.334972</td>\n",
       "      <td>0.750401</td>\n",
       "      <td>1.000000</td>\n",
       "    </tr>\n",
       "    <tr>\n",
       "      <th>LSTAT</th>\n",
       "      <td>0.415125</td>\n",
       "      <td>0.432618</td>\n",
       "      <td>0.619686</td>\n",
       "      <td>0.054811</td>\n",
       "      <td>0.622120</td>\n",
       "      <td>0.597224</td>\n",
       "      <td>0.609375</td>\n",
       "      <td>0.503820</td>\n",
       "      <td>0.465304</td>\n",
       "      <td>0.536399</td>\n",
       "      <td>0.360717</td>\n",
       "      <td>0.353329</td>\n",
       "      <td>1.000000</td>\n",
       "      <td>0.750401</td>\n",
       "    </tr>\n",
       "    <tr>\n",
       "      <th>RM</th>\n",
       "      <td>0.171128</td>\n",
       "      <td>0.355158</td>\n",
       "      <td>0.399291</td>\n",
       "      <td>0.054014</td>\n",
       "      <td>0.330699</td>\n",
       "      <td>1.000000</td>\n",
       "      <td>0.258584</td>\n",
       "      <td>0.221348</td>\n",
       "      <td>0.179420</td>\n",
       "      <td>0.273715</td>\n",
       "      <td>0.346742</td>\n",
       "      <td>0.107636</td>\n",
       "      <td>0.597224</td>\n",
       "      <td>0.682933</td>\n",
       "    </tr>\n",
       "    <tr>\n",
       "      <th>PTRATIO</th>\n",
       "      <td>0.267743</td>\n",
       "      <td>0.382122</td>\n",
       "      <td>0.383825</td>\n",
       "      <td>0.174327</td>\n",
       "      <td>0.222476</td>\n",
       "      <td>0.346742</td>\n",
       "      <td>0.283653</td>\n",
       "      <td>0.245896</td>\n",
       "      <td>0.451842</td>\n",
       "      <td>0.460166</td>\n",
       "      <td>1.000000</td>\n",
       "      <td>0.186885</td>\n",
       "      <td>0.360717</td>\n",
       "      <td>0.513930</td>\n",
       "    </tr>\n",
       "    <tr>\n",
       "      <th>INDUS</th>\n",
       "      <td>0.376299</td>\n",
       "      <td>0.522421</td>\n",
       "      <td>1.000000</td>\n",
       "      <td>0.036183</td>\n",
       "      <td>0.769310</td>\n",
       "      <td>0.399291</td>\n",
       "      <td>0.643300</td>\n",
       "      <td>0.711740</td>\n",
       "      <td>0.579389</td>\n",
       "      <td>0.725878</td>\n",
       "      <td>0.383825</td>\n",
       "      <td>0.355823</td>\n",
       "      <td>0.619686</td>\n",
       "      <td>0.500334</td>\n",
       "    </tr>\n",
       "    <tr>\n",
       "      <th>TAX</th>\n",
       "      <td>0.545004</td>\n",
       "      <td>0.313148</td>\n",
       "      <td>0.725878</td>\n",
       "      <td>0.060153</td>\n",
       "      <td>0.683354</td>\n",
       "      <td>0.273715</td>\n",
       "      <td>0.509456</td>\n",
       "      <td>0.543658</td>\n",
       "      <td>0.894749</td>\n",
       "      <td>1.000000</td>\n",
       "      <td>0.460166</td>\n",
       "      <td>0.449736</td>\n",
       "      <td>0.536399</td>\n",
       "      <td>0.468239</td>\n",
       "    </tr>\n",
       "    <tr>\n",
       "      <th>NOX</th>\n",
       "      <td>0.403308</td>\n",
       "      <td>0.510633</td>\n",
       "      <td>0.769310</td>\n",
       "      <td>0.089168</td>\n",
       "      <td>1.000000</td>\n",
       "      <td>0.330699</td>\n",
       "      <td>0.713332</td>\n",
       "      <td>0.764739</td>\n",
       "      <td>0.625537</td>\n",
       "      <td>0.683354</td>\n",
       "      <td>0.222476</td>\n",
       "      <td>0.375495</td>\n",
       "      <td>0.622120</td>\n",
       "      <td>0.450981</td>\n",
       "    </tr>\n",
       "    <tr>\n",
       "      <th>AGE</th>\n",
       "      <td>0.340789</td>\n",
       "      <td>0.558727</td>\n",
       "      <td>0.643300</td>\n",
       "      <td>0.071898</td>\n",
       "      <td>0.713332</td>\n",
       "      <td>0.258584</td>\n",
       "      <td>1.000000</td>\n",
       "      <td>0.717366</td>\n",
       "      <td>0.456727</td>\n",
       "      <td>0.509456</td>\n",
       "      <td>0.283653</td>\n",
       "      <td>0.266401</td>\n",
       "      <td>0.609375</td>\n",
       "      <td>0.416446</td>\n",
       "    </tr>\n",
       "    <tr>\n",
       "      <th>ZN</th>\n",
       "      <td>0.182937</td>\n",
       "      <td>1.000000</td>\n",
       "      <td>0.522421</td>\n",
       "      <td>0.028334</td>\n",
       "      <td>0.510633</td>\n",
       "      <td>0.355158</td>\n",
       "      <td>0.558727</td>\n",
       "      <td>0.636020</td>\n",
       "      <td>0.301522</td>\n",
       "      <td>0.313148</td>\n",
       "      <td>0.382122</td>\n",
       "      <td>0.179154</td>\n",
       "      <td>0.432618</td>\n",
       "      <td>0.409318</td>\n",
       "    </tr>\n",
       "    <tr>\n",
       "      <th>RAD</th>\n",
       "      <td>0.594251</td>\n",
       "      <td>0.301522</td>\n",
       "      <td>0.579389</td>\n",
       "      <td>0.019416</td>\n",
       "      <td>0.625537</td>\n",
       "      <td>0.179420</td>\n",
       "      <td>0.456727</td>\n",
       "      <td>0.491937</td>\n",
       "      <td>1.000000</td>\n",
       "      <td>0.894749</td>\n",
       "      <td>0.451842</td>\n",
       "      <td>0.459237</td>\n",
       "      <td>0.465304</td>\n",
       "      <td>0.371693</td>\n",
       "    </tr>\n",
       "    <tr>\n",
       "      <th>CRIM</th>\n",
       "      <td>1.000000</td>\n",
       "      <td>0.182937</td>\n",
       "      <td>0.376299</td>\n",
       "      <td>0.060861</td>\n",
       "      <td>0.403308</td>\n",
       "      <td>0.171128</td>\n",
       "      <td>0.340789</td>\n",
       "      <td>0.362843</td>\n",
       "      <td>0.594251</td>\n",
       "      <td>0.545004</td>\n",
       "      <td>0.267743</td>\n",
       "      <td>0.348000</td>\n",
       "      <td>0.415125</td>\n",
       "      <td>0.367320</td>\n",
       "    </tr>\n",
       "    <tr>\n",
       "      <th>B</th>\n",
       "      <td>0.348000</td>\n",
       "      <td>0.179154</td>\n",
       "      <td>0.355823</td>\n",
       "      <td>0.046020</td>\n",
       "      <td>0.375495</td>\n",
       "      <td>0.107636</td>\n",
       "      <td>0.266401</td>\n",
       "      <td>0.293658</td>\n",
       "      <td>0.459237</td>\n",
       "      <td>0.449736</td>\n",
       "      <td>0.186885</td>\n",
       "      <td>1.000000</td>\n",
       "      <td>0.353329</td>\n",
       "      <td>0.334972</td>\n",
       "    </tr>\n",
       "    <tr>\n",
       "      <th>DIS</th>\n",
       "      <td>0.362843</td>\n",
       "      <td>0.636020</td>\n",
       "      <td>0.711740</td>\n",
       "      <td>0.090506</td>\n",
       "      <td>0.764739</td>\n",
       "      <td>0.221348</td>\n",
       "      <td>0.717366</td>\n",
       "      <td>1.000000</td>\n",
       "      <td>0.491937</td>\n",
       "      <td>0.543658</td>\n",
       "      <td>0.245896</td>\n",
       "      <td>0.293658</td>\n",
       "      <td>0.503820</td>\n",
       "      <td>0.277109</td>\n",
       "    </tr>\n",
       "    <tr>\n",
       "      <th>CHAS</th>\n",
       "      <td>0.060861</td>\n",
       "      <td>0.028334</td>\n",
       "      <td>0.036183</td>\n",
       "      <td>1.000000</td>\n",
       "      <td>0.089168</td>\n",
       "      <td>0.054014</td>\n",
       "      <td>0.071898</td>\n",
       "      <td>0.090506</td>\n",
       "      <td>0.019416</td>\n",
       "      <td>0.060153</td>\n",
       "      <td>0.174327</td>\n",
       "      <td>0.046020</td>\n",
       "      <td>0.054811</td>\n",
       "      <td>0.173157</td>\n",
       "    </tr>\n",
       "  </tbody>\n",
       "</table>\n",
       "</div>"
      ],
      "text/plain": [
       "             CRIM        ZN     INDUS      CHAS       NOX        RM       AGE  \\\n",
       "MEDV     0.367320  0.409318  0.500334  0.173157  0.450981  0.682933  0.416446   \n",
       "LSTAT    0.415125  0.432618  0.619686  0.054811  0.622120  0.597224  0.609375   \n",
       "RM       0.171128  0.355158  0.399291  0.054014  0.330699  1.000000  0.258584   \n",
       "PTRATIO  0.267743  0.382122  0.383825  0.174327  0.222476  0.346742  0.283653   \n",
       "INDUS    0.376299  0.522421  1.000000  0.036183  0.769310  0.399291  0.643300   \n",
       "TAX      0.545004  0.313148  0.725878  0.060153  0.683354  0.273715  0.509456   \n",
       "NOX      0.403308  0.510633  0.769310  0.089168  1.000000  0.330699  0.713332   \n",
       "AGE      0.340789  0.558727  0.643300  0.071898  0.713332  0.258584  1.000000   \n",
       "ZN       0.182937  1.000000  0.522421  0.028334  0.510633  0.355158  0.558727   \n",
       "RAD      0.594251  0.301522  0.579389  0.019416  0.625537  0.179420  0.456727   \n",
       "CRIM     1.000000  0.182937  0.376299  0.060861  0.403308  0.171128  0.340789   \n",
       "B        0.348000  0.179154  0.355823  0.046020  0.375495  0.107636  0.266401   \n",
       "DIS      0.362843  0.636020  0.711740  0.090506  0.764739  0.221348  0.717366   \n",
       "CHAS     0.060861  0.028334  0.036183  1.000000  0.089168  0.054014  0.071898   \n",
       "\n",
       "              DIS       RAD       TAX   PTRATIO         B     LSTAT      MEDV  \n",
       "MEDV     0.277109  0.371693  0.468239  0.513930  0.334972  0.750401  1.000000  \n",
       "LSTAT    0.503820  0.465304  0.536399  0.360717  0.353329  1.000000  0.750401  \n",
       "RM       0.221348  0.179420  0.273715  0.346742  0.107636  0.597224  0.682933  \n",
       "PTRATIO  0.245896  0.451842  0.460166  1.000000  0.186885  0.360717  0.513930  \n",
       "INDUS    0.711740  0.579389  0.725878  0.383825  0.355823  0.619686  0.500334  \n",
       "TAX      0.543658  0.894749  1.000000  0.460166  0.449736  0.536399  0.468239  \n",
       "NOX      0.764739  0.625537  0.683354  0.222476  0.375495  0.622120  0.450981  \n",
       "AGE      0.717366  0.456727  0.509456  0.283653  0.266401  0.609375  0.416446  \n",
       "ZN       0.636020  0.301522  0.313148  0.382122  0.179154  0.432618  0.409318  \n",
       "RAD      0.491937  1.000000  0.894749  0.451842  0.459237  0.465304  0.371693  \n",
       "CRIM     0.362843  0.594251  0.545004  0.267743  0.348000  0.415125  0.367320  \n",
       "B        0.293658  0.459237  0.449736  0.186885  1.000000  0.353329  0.334972  \n",
       "DIS      1.000000  0.491937  0.543658  0.245896  0.293658  0.503820  0.277109  \n",
       "CHAS     0.090506  0.019416  0.060153  0.174327  0.046020  0.054811  0.173157  "
      ]
     },
     "execution_count": 28,
     "metadata": {},
     "output_type": "execute_result"
    }
   ],
   "source": [
    "# 내부의 상관계수 값을 절대값으로 변경\n",
    "\n",
    "X_train_abs = X_train_copy.corr().abs()\n",
    "\n",
    "# 절대값으로 변경된 상관계수는 내림차순으로 정렬 (기준 : MEDV)\n",
    "\n",
    "X_train_abs.sort_values(by = 'MEDV', ascending=False)"
   ]
  },
  {
   "cell_type": "markdown",
   "id": "41eba8ea",
   "metadata": {},
   "source": [
    "- 상관관계의 범위는 -1 ~ 1\n",
    "- 현재 절대값으로 변경된 상관계수를 확인 후 같은 컬럼을 제외한 상관계수가 높은 컬럼 2개 찾기\n",
    "- LSTAT과 RM이란 컬럼이 상관계수가 높음\\ \n",
    "- = 이 두가지 컬럼을 가지고 특성 곱이라는 확장을 진행"
   ]
  },
  {
   "cell_type": "code",
   "execution_count": 29,
   "id": "624d1bb5",
   "metadata": {},
   "outputs": [
    {
     "data": {
      "image/png": "[encoded data removed]",
      "text/plain": [
       "<Figure size 640x480 with 1 Axes>"
      ]
     },
     "metadata": {},
     "output_type": "display_data"
    }
   ],
   "source": [
    "# 상관관계가 높은 데이터를 가지고 특성 확장\n",
    "# 확장 전) 먼저 LSTAT 특성만 가지고 학습 시킨 후 예측을 어떻게 하는지 시각화\n",
    "\n",
    "# 모델 학습 (LSTAT만 가지고 학습)\n",
    "\n",
    "model = LinearRegression()\n",
    "model.fit(X_train[[\"LSTAT\"]], y_train)\n",
    "\n",
    "pre = model.predict(X_train[[\"LSTAT\"]])\n",
    "\n",
    "# 차트 그려보기 (scatter 차트 두개 : 실제 데이터와 예측 데이터)\n",
    "\n",
    "plt.scatter(X_train[\"LSTAT\"], y_train, color=\"darkslategray\") # 실제 데이터 스캐터 차트\n",
    "plt.scatter(X_train[\"LSTAT\"], pre, color=\"darkseagreen\") # 예측 데이터 스캐터 차트\n",
    "\n",
    "plt.show()"
   ]
  },
  {
   "cell_type": "code",
   "execution_count": 30,
   "id": "03c42324",
   "metadata": {
    "scrolled": true
   },
   "outputs": [
    {
     "data": {
      "image/png": "[encoded data removed]",
      "text/plain": [
       "<Figure size 640x480 with 1 Axes>"
      ]
     },
     "metadata": {},
     "output_type": "display_data"
    }
   ],
   "source": [
    "# 특성 확장 후 : 본래 LSTAT 특성과 확장 LSTAT 특성을 가지고 학습 시킨 후 예측을 어떻게 하는지 확인\n",
    "\n",
    "X_train[\"LSTAT x LSTAT\"] = X_train[\"LSTAT\"] * X_train[\"LSTAT\"] # 특성 추가 확장\n",
    "\n",
    "# 모델 학습\n",
    "model2 = LinearRegression()\n",
    "model2.fit(X_train[[\"LSTAT\", \"LSTAT x LSTAT\"]], y_train)\n",
    "\n",
    "pre = model2.predict(X_train[[\"LSTAT\", \"LSTAT x LSTAT\"]])\n",
    "\n",
    "plt.scatter(X_train[\"LSTAT\"], y_train, color=\"darkslategray\")\n",
    "plt.scatter(X_train[\"LSTAT\"], pre, color=\"darkseagreen\")\n",
    "\n",
    "plt.show()"
   ]
  },
  {
   "cell_type": "markdown",
   "id": "98a182da",
   "metadata": {},
   "source": [
    "<font color = \"red\"> **<주의>**</font> 직선의 형태가 아님 : 곡선이면 비선형?\\\n",
    "    - 다항 회귀에 이해가 필요함\\\n",
    "    - 다항 회귀 : 독립변수의 단항식이 아닌(독립변수 X가 1개가 아닌) 2차, 3차 방정식과 같은 다항식으로 표현된 것\n",
    "    \n",
    "<font color = \"gray\"> \n",
    "    1. 다항 회귀를 선형이 아닌 비선형이라 혼동 할 수 있음 허나 선형 회귀임을 잊지 말기<br>\n",
    "    2. 선형, 비선형의 회귀를 나누는 기준은? = 가중치(회귀 계수, w)가 선형, 비선형인지 확인<br>\n",
    "    3. 독립변수(문제 데이터, 특성, X)가 선형, 비선형인지를 따르지 않음\n",
    "</font>"
   ]
  },
  {
   "cell_type": "code",
   "execution_count": 31,
   "id": "c4358983",
   "metadata": {},
   "outputs": [
    {
     "name": "stdout",
     "output_type": "stream",
     "text": [
      "<class 'pandas.core.frame.DataFrame'>\n",
      "Int64Index: 354 entries, 17 to 451\n",
      "Data columns (total 14 columns):\n",
      " #   Column         Non-Null Count  Dtype  \n",
      "---  ------         --------------  -----  \n",
      " 0   CRIM           354 non-null    float64\n",
      " 1   ZN             354 non-null    float64\n",
      " 2   INDUS          354 non-null    float64\n",
      " 3   CHAS           354 non-null    float64\n",
      " 4   NOX            354 non-null    float64\n",
      " 5   RM             354 non-null    float64\n",
      " 6   AGE            354 non-null    float64\n",
      " 7   DIS            354 non-null    float64\n",
      " 8   RAD            354 non-null    float64\n",
      " 9   TAX            354 non-null    float64\n",
      " 10  PTRATIO        354 non-null    float64\n",
      " 11  B              354 non-null    float64\n",
      " 12  LSTAT          354 non-null    float64\n",
      " 13  LSTAT x LSTAT  354 non-null    float64\n",
      "dtypes: float64(14)\n",
      "memory usage: 41.5 KB\n"
     ]
    }
   ],
   "source": [
    "X_train.info()"
   ]
  },
  {
   "cell_type": "code",
   "execution_count": 32,
   "id": "6a7f02a3",
   "metadata": {},
   "outputs": [
    {
     "name": "stdout",
     "output_type": "stream",
     "text": [
      "<class 'pandas.core.frame.DataFrame'>\n",
      "Int64Index: 152 entries, 337 to 238\n",
      "Data columns (total 13 columns):\n",
      " #   Column   Non-Null Count  Dtype  \n",
      "---  ------   --------------  -----  \n",
      " 0   CRIM     152 non-null    float64\n",
      " 1   ZN       152 non-null    float64\n",
      " 2   INDUS    152 non-null    float64\n",
      " 3   CHAS     152 non-null    float64\n",
      " 4   NOX      152 non-null    float64\n",
      " 5   RM       152 non-null    float64\n",
      " 6   AGE      152 non-null    float64\n",
      " 7   DIS      152 non-null    float64\n",
      " 8   RAD      152 non-null    float64\n",
      " 9   TAX      152 non-null    float64\n",
      " 10  PTRATIO  152 non-null    float64\n",
      " 11  B        152 non-null    float64\n",
      " 12  LSTAT    152 non-null    float64\n",
      "dtypes: float64(13)\n",
      "memory usage: 16.6 KB\n"
     ]
    }
   ],
   "source": [
    "X_test.info()"
   ]
  },
  {
   "cell_type": "code",
   "execution_count": 33,
   "id": "7c3b91b3",
   "metadata": {},
   "outputs": [],
   "source": [
    "# X_train에도 확장 LSTAT를 추가\n",
    "\n",
    "X_test[\"LSTAT x LSTAT\"] = X_test[\"LSTAT\"] * X_test[\"LSTAT\"]"
   ]
  },
  {
   "cell_type": "code",
   "execution_count": 34,
   "id": "bde78dda",
   "metadata": {},
   "outputs": [],
   "source": [
    "# 모델 객체 생성\n",
    "\n",
    "model = LinearRegression()"
   ]
  },
  {
   "cell_type": "code",
   "execution_count": 35,
   "id": "0db8a194",
   "metadata": {},
   "outputs": [
    {
     "data": {
      "text/html": [
       "<style>#sk-container-id-2 {color: black;background-color: white;}#sk-container-id-2 pre{padding: 0;}#sk-container-id-2 div.sk-toggleable {background-color: white;}#sk-container-id-2 label.sk-toggleable__label {cursor: pointer;display: block;width: 100%;margin-bottom: 0;padding: 0.3em;box-sizing: border-box;text-align: center;}#sk-container-id-2 label.sk-toggleable__label-arrow:before {content: \"▸\";float: left;margin-right: 0.25em;color: #696969;}#sk-container-id-2 label.sk-toggleable__label-arrow:hover:before {color: black;}#sk-container-id-2 div.sk-estimator:hover label.sk-toggleable__label-arrow:before {color: black;}#sk-container-id-2 div.sk-toggleable__content {max-height: 0;max-width: 0;overflow: hidden;text-align: left;background-color: #f0f8ff;}#sk-container-id-2 div.sk-toggleable__content pre {margin: 0.2em;color: black;border-radius: 0.25em;background-color: #f0f8ff;}#sk-container-id-2 input.sk-toggleable__control:checked~div.sk-toggleable__content {max-height: 200px;max-width: 100%;overflow: auto;}#sk-container-id-2 input.sk-toggleable__control:checked~label.sk-toggleable__label-arrow:before {content: \"▾\";}#sk-container-id-2 div.sk-estimator input.sk-toggleable__control:checked~label.sk-toggleable__label {background-color: #d4ebff;}#sk-container-id-2 div.sk-label input.sk-toggleable__control:checked~label.sk-toggleable__label {background-color: #d4ebff;}#sk-container-id-2 input.sk-hidden--visually {border: 0;clip: rect(1px 1px 1px 1px);clip: rect(1px, 1px, 1px, 1px);height: 1px;margin: -1px;overflow: hidden;padding: 0;position: absolute;width: 1px;}#sk-container-id-2 div.sk-estimator {font-family: monospace;background-color: #f0f8ff;border: 1px dotted black;border-radius: 0.25em;box-sizing: border-box;margin-bottom: 0.5em;}#sk-container-id-2 div.sk-estimator:hover {background-color: #d4ebff;}#sk-container-id-2 div.sk-parallel-item::after {content: \"\";width: 100%;border-bottom: 1px solid gray;flex-grow: 1;}#sk-container-id-2 div.sk-label:hover label.sk-toggleable__label {background-color: #d4ebff;}#sk-container-id-2 div.sk-serial::before {content: \"\";position: absolute;border-left: 1px solid gray;box-sizing: border-box;top: 0;bottom: 0;left: 50%;z-index: 0;}#sk-container-id-2 div.sk-serial {display: flex;flex-direction: column;align-items: center;background-color: white;padding-right: 0.2em;padding-left: 0.2em;position: relative;}#sk-container-id-2 div.sk-item {position: relative;z-index: 1;}#sk-container-id-2 div.sk-parallel {display: flex;align-items: stretch;justify-content: center;background-color: white;position: relative;}#sk-container-id-2 div.sk-item::before, #sk-container-id-2 div.sk-parallel-item::before {content: \"\";position: absolute;border-left: 1px solid gray;box-sizing: border-box;top: 0;bottom: 0;left: 50%;z-index: -1;}#sk-container-id-2 div.sk-parallel-item {display: flex;flex-direction: column;z-index: 1;position: relative;background-color: white;}#sk-container-id-2 div.sk-parallel-item:first-child::after {align-self: flex-end;width: 50%;}#sk-container-id-2 div.sk-parallel-item:last-child::after {align-self: flex-start;width: 50%;}#sk-container-id-2 div.sk-parallel-item:only-child::after {width: 0;}#sk-container-id-2 div.sk-dashed-wrapped {border: 1px dashed gray;margin: 0 0.4em 0.5em 0.4em;box-sizing: border-box;padding-bottom: 0.4em;background-color: white;}#sk-container-id-2 div.sk-label label {font-family: monospace;font-weight: bold;display: inline-block;line-height: 1.2em;}#sk-container-id-2 div.sk-label-container {text-align: center;}#sk-container-id-2 div.sk-container {/* jupyter's `normalize.less` sets `[hidden] { display: none; }` but bootstrap.min.css set `[hidden] { display: none !important; }` so we also need the `!important` here to be able to override the default hidden behavior on the sphinx rendered scikit-learn.org. See: https://github.com/scikit-learn/scikit-learn/issues/21755 */display: inline-block !important;position: relative;}#sk-container-id-2 div.sk-text-repr-fallback {display: none;}</style><div id=\"sk-container-id-2\" class=\"sk-top-container\"><div class=\"sk-text-repr-fallback\"><pre>LinearRegression()</pre><b>In a Jupyter environment, please rerun this cell to show the HTML representation or trust the notebook. <br />On GitHub, the HTML representation is unable to render, please try loading this page with nbviewer.org.</b></div><div class=\"sk-container\" hidden><div class=\"sk-item\"><div class=\"sk-estimator sk-toggleable\"><input class=\"sk-toggleable__control sk-hidden--visually\" id=\"sk-estimator-id-2\" type=\"checkbox\" checked><label for=\"sk-estimator-id-2\" class=\"sk-toggleable__label sk-toggleable__label-arrow\">LinearRegression</label><div class=\"sk-toggleable__content\"><pre>LinearRegression()</pre></div></div></div></div></div>"
      ],
      "text/plain": [
       "LinearRegression()"
      ]
     },
     "execution_count": 35,
     "metadata": {},
     "output_type": "execute_result"
    }
   ],
   "source": [
    "# 모델 학습\n",
    "\n",
    "model.fit(X_train, y_train) # 이때 X_train에는 확장 된 LSTAT 컬럼 추가"
   ]
  },
  {
   "cell_type": "code",
   "execution_count": 36,
   "id": "8a8933aa",
   "metadata": {},
   "outputs": [
    {
     "data": {
      "text/plain": [
       "0.7587390463589593"
      ]
     },
     "execution_count": 36,
     "metadata": {},
     "output_type": "execute_result"
    }
   ],
   "source": [
    "# 모델 평가 - score : 약 70%\n",
    "# 현재 약 5% 정도 오름\n",
    "\n",
    "model.score(X_test, y_test)"
   ]
  },
  {
   "cell_type": "code",
   "execution_count": 37,
   "id": "eda5eda8",
   "metadata": {},
   "outputs": [
    {
     "data": {
      "image/png": "[encoded data removed]",
      "text/plain": [
       "<Figure size 640x480 with 1 Axes>"
      ]
     },
     "metadata": {},
     "output_type": "display_data"
    }
   ],
   "source": [
    "# 상관관계가 높은 데이터를 가지고 특성 확장\n",
    "# 확장 전) 먼저 RM 특성만 가지고 학습 시킨 후 예측을 어떻게 하는지 시각화\n",
    "\n",
    "# 모델 학습 (RM만 가지고 학습)\n",
    "\n",
    "model = LinearRegression()\n",
    "model.fit(X_train[[\"RM\"]], y_train)\n",
    "\n",
    "pre = model.predict(X_train[[\"RM\"]])\n",
    "\n",
    "# 차트 그려보기 (scatter 차트 두개 : 실제 데이터와 예측 데이터)\n",
    "\n",
    "plt.scatter(X_train[\"RM\"], y_train, color=\"darkslategray\") # 실제 데이터 스캐터 차트\n",
    "plt.scatter(X_train[\"RM\"], pre, color=\"darkseagreen\") # 예측 데이터 스캐터 차트\n",
    "\n",
    "plt.show()"
   ]
  },
  {
   "cell_type": "code",
   "execution_count": 38,
   "id": "66b7d529",
   "metadata": {
    "scrolled": false
   },
   "outputs": [
    {
     "data": {
      "image/png": "[encoded data removed]",
      "text/plain": [
       "<Figure size 640x480 with 1 Axes>"
      ]
     },
     "metadata": {},
     "output_type": "display_data"
    }
   ],
   "source": [
    "# 특성 확장 후 : 본래 RM 특성과 확장 RM 특성을 가지고 학습 시킨 후 예측을 어떻게 하는지 확인\n",
    "\n",
    "X_train[\"RM x RM\"] = X_train[\"RM\"] * X_train[\"RM\"] # 특성 추가 확장\n",
    "\n",
    "# 모델 학습\n",
    "model2 = LinearRegression()\n",
    "model2.fit(X_train[[\"RM\", \"RM x RM\"]], y_train)\n",
    "\n",
    "pre = model2.predict(X_train[[\"RM\", \"RM x RM\"]])\n",
    "\n",
    "plt.scatter(X_train[\"RM\"], y_train, color=\"darkslategray\")\n",
    "plt.scatter(X_train[\"RM\"], pre, color=\"darkseagreen\")\n",
    "\n",
    "plt.show()"
   ]
  },
  {
   "cell_type": "code",
   "execution_count": 39,
   "id": "34d0cbf6",
   "metadata": {},
   "outputs": [
    {
     "name": "stdout",
     "output_type": "stream",
     "text": [
      "<class 'pandas.core.frame.DataFrame'>\n",
      "Int64Index: 354 entries, 17 to 451\n",
      "Data columns (total 15 columns):\n",
      " #   Column         Non-Null Count  Dtype  \n",
      "---  ------         --------------  -----  \n",
      " 0   CRIM           354 non-null    float64\n",
      " 1   ZN             354 non-null    float64\n",
      " 2   INDUS          354 non-null    float64\n",
      " 3   CHAS           354 non-null    float64\n",
      " 4   NOX            354 non-null    float64\n",
      " 5   RM             354 non-null    float64\n",
      " 6   AGE            354 non-null    float64\n",
      " 7   DIS            354 non-null    float64\n",
      " 8   RAD            354 non-null    float64\n",
      " 9   TAX            354 non-null    float64\n",
      " 10  PTRATIO        354 non-null    float64\n",
      " 11  B              354 non-null    float64\n",
      " 12  LSTAT          354 non-null    float64\n",
      " 13  LSTAT x LSTAT  354 non-null    float64\n",
      " 14  RM x RM        354 non-null    float64\n",
      "dtypes: float64(15)\n",
      "memory usage: 44.2 KB\n"
     ]
    }
   ],
   "source": [
    "# RM 특성 확장해서 실제 평가까지 진행\n",
    "\n",
    "X_train.info()"
   ]
  },
  {
   "cell_type": "code",
   "execution_count": 40,
   "id": "2b460218",
   "metadata": {},
   "outputs": [
    {
     "name": "stdout",
     "output_type": "stream",
     "text": [
      "<class 'pandas.core.frame.DataFrame'>\n",
      "Int64Index: 152 entries, 337 to 238\n",
      "Data columns (total 14 columns):\n",
      " #   Column         Non-Null Count  Dtype  \n",
      "---  ------         --------------  -----  \n",
      " 0   CRIM           152 non-null    float64\n",
      " 1   ZN             152 non-null    float64\n",
      " 2   INDUS          152 non-null    float64\n",
      " 3   CHAS           152 non-null    float64\n",
      " 4   NOX            152 non-null    float64\n",
      " 5   RM             152 non-null    float64\n",
      " 6   AGE            152 non-null    float64\n",
      " 7   DIS            152 non-null    float64\n",
      " 8   RAD            152 non-null    float64\n",
      " 9   TAX            152 non-null    float64\n",
      " 10  PTRATIO        152 non-null    float64\n",
      " 11  B              152 non-null    float64\n",
      " 12  LSTAT          152 non-null    float64\n",
      " 13  LSTAT x LSTAT  152 non-null    float64\n",
      "dtypes: float64(14)\n",
      "memory usage: 17.8 KB\n"
     ]
    }
   ],
   "source": [
    "X_test.info()"
   ]
  },
  {
   "cell_type": "code",
   "execution_count": 41,
   "id": "1e4b5f3e",
   "metadata": {},
   "outputs": [
    {
     "name": "stdout",
     "output_type": "stream",
     "text": [
      "<class 'pandas.core.frame.DataFrame'>\n",
      "Int64Index: 152 entries, 337 to 238\n",
      "Data columns (total 15 columns):\n",
      " #   Column         Non-Null Count  Dtype  \n",
      "---  ------         --------------  -----  \n",
      " 0   CRIM           152 non-null    float64\n",
      " 1   ZN             152 non-null    float64\n",
      " 2   INDUS          152 non-null    float64\n",
      " 3   CHAS           152 non-null    float64\n",
      " 4   NOX            152 non-null    float64\n",
      " 5   RM             152 non-null    float64\n",
      " 6   AGE            152 non-null    float64\n",
      " 7   DIS            152 non-null    float64\n",
      " 8   RAD            152 non-null    float64\n",
      " 9   TAX            152 non-null    float64\n",
      " 10  PTRATIO        152 non-null    float64\n",
      " 11  B              152 non-null    float64\n",
      " 12  LSTAT          152 non-null    float64\n",
      " 13  LSTAT x LSTAT  152 non-null    float64\n",
      " 14  RM x RM        152 non-null    float64\n",
      "dtypes: float64(15)\n",
      "memory usage: 19.0 KB\n"
     ]
    }
   ],
   "source": [
    "# test에도 확장 RM 추가\n",
    "\n",
    "X_test[\"RM x RM\"] = X_test[\"RM\"] * X_test[\"RM\"]\n",
    "X_test.info()"
   ]
  },
  {
   "cell_type": "code",
   "execution_count": 42,
   "id": "17331868",
   "metadata": {},
   "outputs": [],
   "source": [
    "# 모델 객체 생성\n",
    "\n",
    "model = LinearRegression()"
   ]
  },
  {
   "cell_type": "code",
   "execution_count": 43,
   "id": "b0ed6fd7",
   "metadata": {},
   "outputs": [
    {
     "data": {
      "text/html": [
       "<style>#sk-container-id-3 {color: black;background-color: white;}#sk-container-id-3 pre{padding: 0;}#sk-container-id-3 div.sk-toggleable {background-color: white;}#sk-container-id-3 label.sk-toggleable__label {cursor: pointer;display: block;width: 100%;margin-bottom: 0;padding: 0.3em;box-sizing: border-box;text-align: center;}#sk-container-id-3 label.sk-toggleable__label-arrow:before {content: \"▸\";float: left;margin-right: 0.25em;color: #696969;}#sk-container-id-3 label.sk-toggleable__label-arrow:hover:before {color: black;}#sk-container-id-3 div.sk-estimator:hover label.sk-toggleable__label-arrow:before {color: black;}#sk-container-id-3 div.sk-toggleable__content {max-height: 0;max-width: 0;overflow: hidden;text-align: left;background-color: #f0f8ff;}#sk-container-id-3 div.sk-toggleable__content pre {margin: 0.2em;color: black;border-radius: 0.25em;background-color: #f0f8ff;}#sk-container-id-3 input.sk-toggleable__control:checked~div.sk-toggleable__content {max-height: 200px;max-width: 100%;overflow: auto;}#sk-container-id-3 input.sk-toggleable__control:checked~label.sk-toggleable__label-arrow:before {content: \"▾\";}#sk-container-id-3 div.sk-estimator input.sk-toggleable__control:checked~label.sk-toggleable__label {background-color: #d4ebff;}#sk-container-id-3 div.sk-label input.sk-toggleable__control:checked~label.sk-toggleable__label {background-color: #d4ebff;}#sk-container-id-3 input.sk-hidden--visually {border: 0;clip: rect(1px 1px 1px 1px);clip: rect(1px, 1px, 1px, 1px);height: 1px;margin: -1px;overflow: hidden;padding: 0;position: absolute;width: 1px;}#sk-container-id-3 div.sk-estimator {font-family: monospace;background-color: #f0f8ff;border: 1px dotted black;border-radius: 0.25em;box-sizing: border-box;margin-bottom: 0.5em;}#sk-container-id-3 div.sk-estimator:hover {background-color: #d4ebff;}#sk-container-id-3 div.sk-parallel-item::after {content: \"\";width: 100%;border-bottom: 1px solid gray;flex-grow: 1;}#sk-container-id-3 div.sk-label:hover label.sk-toggleable__label {background-color: #d4ebff;}#sk-container-id-3 div.sk-serial::before {content: \"\";position: absolute;border-left: 1px solid gray;box-sizing: border-box;top: 0;bottom: 0;left: 50%;z-index: 0;}#sk-container-id-3 div.sk-serial {display: flex;flex-direction: column;align-items: center;background-color: white;padding-right: 0.2em;padding-left: 0.2em;position: relative;}#sk-container-id-3 div.sk-item {position: relative;z-index: 1;}#sk-container-id-3 div.sk-parallel {display: flex;align-items: stretch;justify-content: center;background-color: white;position: relative;}#sk-container-id-3 div.sk-item::before, #sk-container-id-3 div.sk-parallel-item::before {content: \"\";position: absolute;border-left: 1px solid gray;box-sizing: border-box;top: 0;bottom: 0;left: 50%;z-index: -1;}#sk-container-id-3 div.sk-parallel-item {display: flex;flex-direction: column;z-index: 1;position: relative;background-color: white;}#sk-container-id-3 div.sk-parallel-item:first-child::after {align-self: flex-end;width: 50%;}#sk-container-id-3 div.sk-parallel-item:last-child::after {align-self: flex-start;width: 50%;}#sk-container-id-3 div.sk-parallel-item:only-child::after {width: 0;}#sk-container-id-3 div.sk-dashed-wrapped {border: 1px dashed gray;margin: 0 0.4em 0.5em 0.4em;box-sizing: border-box;padding-bottom: 0.4em;background-color: white;}#sk-container-id-3 div.sk-label label {font-family: monospace;font-weight: bold;display: inline-block;line-height: 1.2em;}#sk-container-id-3 div.sk-label-container {text-align: center;}#sk-container-id-3 div.sk-container {/* jupyter's `normalize.less` sets `[hidden] { display: none; }` but bootstrap.min.css set `[hidden] { display: none !important; }` so we also need the `!important` here to be able to override the default hidden behavior on the sphinx rendered scikit-learn.org. See: https://github.com/scikit-learn/scikit-learn/issues/21755 */display: inline-block !important;position: relative;}#sk-container-id-3 div.sk-text-repr-fallback {display: none;}</style><div id=\"sk-container-id-3\" class=\"sk-top-container\"><div class=\"sk-text-repr-fallback\"><pre>LinearRegression()</pre><b>In a Jupyter environment, please rerun this cell to show the HTML representation or trust the notebook. <br />On GitHub, the HTML representation is unable to render, please try loading this page with nbviewer.org.</b></div><div class=\"sk-container\" hidden><div class=\"sk-item\"><div class=\"sk-estimator sk-toggleable\"><input class=\"sk-toggleable__control sk-hidden--visually\" id=\"sk-estimator-id-3\" type=\"checkbox\" checked><label for=\"sk-estimator-id-3\" class=\"sk-toggleable__label sk-toggleable__label-arrow\">LinearRegression</label><div class=\"sk-toggleable__content\"><pre>LinearRegression()</pre></div></div></div></div></div>"
      ],
      "text/plain": [
       "LinearRegression()"
      ]
     },
     "execution_count": 43,
     "metadata": {},
     "output_type": "execute_result"
    }
   ],
   "source": [
    "# 모델 학습\n",
    "\n",
    "model.fit(X_train, y_train) # 추가 된 컬럼은 확장LSTAT, 확장RM"
   ]
  },
  {
   "cell_type": "code",
   "execution_count": 44,
   "id": "137418f0",
   "metadata": {},
   "outputs": [
    {
     "data": {
      "text/plain": [
       "0.7770548249367983"
      ]
     },
     "execution_count": 44,
     "metadata": {},
     "output_type": "execute_result"
    }
   ],
   "source": [
    "# 모델 평가\n",
    "\n",
    "model.score(X_test, y_test) # 추가 된 컬럼은 확장LSTAT, 확장RM "
   ]
  },
  {
   "cell_type": "markdown",
   "id": "44b09ea6",
   "metadata": {},
   "source": [
    "- 정리\n",
    "    - 특성 확장을 진행하여 선형회귀 모델의 성능이 개선된 것을 확인\n",
    "    - 기존 LSTAT과 RM라는 컬럼만 특성확장을 진행\n",
    "    - <가설> 전체 컬럼을 가지고 특성 확장을 진행하면 성능이 좋아질까?"
   ]
  },
  {
   "cell_type": "code",
   "execution_count": 45,
   "id": "c12d613a",
   "metadata": {},
   "outputs": [],
   "source": [
    "# 전체 컬럼을 가지고 특성 확장 진행\n",
    "# 1. 기존에 특성이 확장된 컬럼을 삭제\n",
    "\n",
    "X_train.drop([\"LSTAT x LSTAT\", \"RM\", \"RM\"], axis=1, inplace=True)\n",
    "X_test.drop([\"LSTAT x LSTAT\", \"RM\", \"RM\"], axis=1, inplace=True)"
   ]
  },
  {
   "cell_type": "code",
   "execution_count": 46,
   "id": "0cba33ee",
   "metadata": {},
   "outputs": [
    {
     "name": "stdout",
     "output_type": "stream",
     "text": [
      "<class 'pandas.core.frame.DataFrame'>\n",
      "Int64Index: 354 entries, 17 to 451\n",
      "Data columns (total 13 columns):\n",
      " #   Column   Non-Null Count  Dtype  \n",
      "---  ------   --------------  -----  \n",
      " 0   CRIM     354 non-null    float64\n",
      " 1   ZN       354 non-null    float64\n",
      " 2   INDUS    354 non-null    float64\n",
      " 3   CHAS     354 non-null    float64\n",
      " 4   NOX      354 non-null    float64\n",
      " 5   AGE      354 non-null    float64\n",
      " 6   DIS      354 non-null    float64\n",
      " 7   RAD      354 non-null    float64\n",
      " 8   TAX      354 non-null    float64\n",
      " 9   PTRATIO  354 non-null    float64\n",
      " 10  B        354 non-null    float64\n",
      " 11  LSTAT    354 non-null    float64\n",
      " 12  RM x RM  354 non-null    float64\n",
      "dtypes: float64(13)\n",
      "memory usage: 38.7 KB\n"
     ]
    }
   ],
   "source": [
    "X_train.info()"
   ]
  },
  {
   "cell_type": "code",
   "execution_count": 47,
   "id": "7020c62c",
   "metadata": {},
   "outputs": [
    {
     "name": "stdout",
     "output_type": "stream",
     "text": [
      "<class 'pandas.core.frame.DataFrame'>\n",
      "Int64Index: 152 entries, 337 to 238\n",
      "Data columns (total 13 columns):\n",
      " #   Column   Non-Null Count  Dtype  \n",
      "---  ------   --------------  -----  \n",
      " 0   CRIM     152 non-null    float64\n",
      " 1   ZN       152 non-null    float64\n",
      " 2   INDUS    152 non-null    float64\n",
      " 3   CHAS     152 non-null    float64\n",
      " 4   NOX      152 non-null    float64\n",
      " 5   AGE      152 non-null    float64\n",
      " 6   DIS      152 non-null    float64\n",
      " 7   RAD      152 non-null    float64\n",
      " 8   TAX      152 non-null    float64\n",
      " 9   PTRATIO  152 non-null    float64\n",
      " 10  B        152 non-null    float64\n",
      " 11  LSTAT    152 non-null    float64\n",
      " 12  RM x RM  152 non-null    float64\n",
      "dtypes: float64(13)\n",
      "memory usage: 16.6 KB\n"
     ]
    }
   ],
   "source": [
    "X_test.info()"
   ]
  },
  {
   "cell_type": "code",
   "execution_count": 48,
   "id": "f1df75d4",
   "metadata": {},
   "outputs": [],
   "source": [
    "# X_train의 컬럼은 13개 -> 모든 컬럼 확장\n",
    "# 원본 확보\n",
    "\n",
    "X_train_copy2 = X_train.copy() # (X_train.copy() = 원본 유지)"
   ]
  },
  {
   "cell_type": "code",
   "execution_count": 49,
   "id": "44d558e3",
   "metadata": {},
   "outputs": [],
   "source": [
    "import warnings\n",
    "warnings.filterwarnings(\"ignore\")"
   ]
  },
  {
   "cell_type": "code",
   "execution_count": 50,
   "id": "043b0832",
   "metadata": {},
   "outputs": [],
   "source": [
    "# 반복문 작성\n",
    "\n",
    "for col1 in X_train.columns : # 총 13번 반복 (컬럼의 개수만큼)\n",
    "    for col2 in X_train.columns : # (마찬가지로 13번 반복)\n",
    "        X_train_copy2[col1+\"x\"+col2] = X_train[col1] * X_train[col2]"
   ]
  },
  {
   "cell_type": "code",
   "execution_count": 51,
   "id": "56cd0ca9",
   "metadata": {},
   "outputs": [
    {
     "name": "stdout",
     "output_type": "stream",
     "text": [
      "<class 'pandas.core.frame.DataFrame'>\n",
      "Int64Index: 354 entries, 17 to 451\n",
      "Columns: 182 entries, CRIM to RM x RMxRM x RM\n",
      "dtypes: float64(182)\n",
      "memory usage: 506.1 KB\n"
     ]
    }
   ],
   "source": [
    "X_train_copy2.info()"
   ]
  },
  {
   "cell_type": "code",
   "execution_count": 52,
   "id": "5a4253c0",
   "metadata": {},
   "outputs": [],
   "source": [
    "# test에서 진행된 전처리, 데이터 변경 -> test에서도 반복\n",
    "\n",
    "X_test_copy2 = X_test.copy()\n",
    "\n",
    "for col1 in X_test.columns :\n",
    "    for col2 in X_test.columns :\n",
    "        X_test_copy2[col1+\"x\"+col2] = X_test[col1] * X_test[col2]"
   ]
  },
  {
   "cell_type": "code",
   "execution_count": 53,
   "id": "5166a951",
   "metadata": {
    "scrolled": true
   },
   "outputs": [
    {
     "name": "stdout",
     "output_type": "stream",
     "text": [
      "<class 'pandas.core.frame.DataFrame'>\n",
      "Int64Index: 152 entries, 337 to 238\n",
      "Columns: 182 entries, CRIM to RM x RMxRM x RM\n",
      "dtypes: float64(182)\n",
      "memory usage: 217.3 KB\n"
     ]
    }
   ],
   "source": [
    "X_test_copy2.info()"
   ]
  },
  {
   "cell_type": "code",
   "execution_count": 54,
   "id": "42d2c9c2",
   "metadata": {},
   "outputs": [],
   "source": [
    "# 모델 객체 생성\n",
    "\n",
    "model = LinearRegression()"
   ]
  },
  {
   "cell_type": "code",
   "execution_count": 55,
   "id": "489c09f8",
   "metadata": {},
   "outputs": [
    {
     "data": {
      "text/html": [
       "<style>#sk-container-id-4 {color: black;background-color: white;}#sk-container-id-4 pre{padding: 0;}#sk-container-id-4 div.sk-toggleable {background-color: white;}#sk-container-id-4 label.sk-toggleable__label {cursor: pointer;display: block;width: 100%;margin-bottom: 0;padding: 0.3em;box-sizing: border-box;text-align: center;}#sk-container-id-4 label.sk-toggleable__label-arrow:before {content: \"▸\";float: left;margin-right: 0.25em;color: #696969;}#sk-container-id-4 label.sk-toggleable__label-arrow:hover:before {color: black;}#sk-container-id-4 div.sk-estimator:hover label.sk-toggleable__label-arrow:before {color: black;}#sk-container-id-4 div.sk-toggleable__content {max-height: 0;max-width: 0;overflow: hidden;text-align: left;background-color: #f0f8ff;}#sk-container-id-4 div.sk-toggleable__content pre {margin: 0.2em;color: black;border-radius: 0.25em;background-color: #f0f8ff;}#sk-container-id-4 input.sk-toggleable__control:checked~div.sk-toggleable__content {max-height: 200px;max-width: 100%;overflow: auto;}#sk-container-id-4 input.sk-toggleable__control:checked~label.sk-toggleable__label-arrow:before {content: \"▾\";}#sk-container-id-4 div.sk-estimator input.sk-toggleable__control:checked~label.sk-toggleable__label {background-color: #d4ebff;}#sk-container-id-4 div.sk-label input.sk-toggleable__control:checked~label.sk-toggleable__label {background-color: #d4ebff;}#sk-container-id-4 input.sk-hidden--visually {border: 0;clip: rect(1px 1px 1px 1px);clip: rect(1px, 1px, 1px, 1px);height: 1px;margin: -1px;overflow: hidden;padding: 0;position: absolute;width: 1px;}#sk-container-id-4 div.sk-estimator {font-family: monospace;background-color: #f0f8ff;border: 1px dotted black;border-radius: 0.25em;box-sizing: border-box;margin-bottom: 0.5em;}#sk-container-id-4 div.sk-estimator:hover {background-color: #d4ebff;}#sk-container-id-4 div.sk-parallel-item::after {content: \"\";width: 100%;border-bottom: 1px solid gray;flex-grow: 1;}#sk-container-id-4 div.sk-label:hover label.sk-toggleable__label {background-color: #d4ebff;}#sk-container-id-4 div.sk-serial::before {content: \"\";position: absolute;border-left: 1px solid gray;box-sizing: border-box;top: 0;bottom: 0;left: 50%;z-index: 0;}#sk-container-id-4 div.sk-serial {display: flex;flex-direction: column;align-items: center;background-color: white;padding-right: 0.2em;padding-left: 0.2em;position: relative;}#sk-container-id-4 div.sk-item {position: relative;z-index: 1;}#sk-container-id-4 div.sk-parallel {display: flex;align-items: stretch;justify-content: center;background-color: white;position: relative;}#sk-container-id-4 div.sk-item::before, #sk-container-id-4 div.sk-parallel-item::before {content: \"\";position: absolute;border-left: 1px solid gray;box-sizing: border-box;top: 0;bottom: 0;left: 50%;z-index: -1;}#sk-container-id-4 div.sk-parallel-item {display: flex;flex-direction: column;z-index: 1;position: relative;background-color: white;}#sk-container-id-4 div.sk-parallel-item:first-child::after {align-self: flex-end;width: 50%;}#sk-container-id-4 div.sk-parallel-item:last-child::after {align-self: flex-start;width: 50%;}#sk-container-id-4 div.sk-parallel-item:only-child::after {width: 0;}#sk-container-id-4 div.sk-dashed-wrapped {border: 1px dashed gray;margin: 0 0.4em 0.5em 0.4em;box-sizing: border-box;padding-bottom: 0.4em;background-color: white;}#sk-container-id-4 div.sk-label label {font-family: monospace;font-weight: bold;display: inline-block;line-height: 1.2em;}#sk-container-id-4 div.sk-label-container {text-align: center;}#sk-container-id-4 div.sk-container {/* jupyter's `normalize.less` sets `[hidden] { display: none; }` but bootstrap.min.css set `[hidden] { display: none !important; }` so we also need the `!important` here to be able to override the default hidden behavior on the sphinx rendered scikit-learn.org. See: https://github.com/scikit-learn/scikit-learn/issues/21755 */display: inline-block !important;position: relative;}#sk-container-id-4 div.sk-text-repr-fallback {display: none;}</style><div id=\"sk-container-id-4\" class=\"sk-top-container\"><div class=\"sk-text-repr-fallback\"><pre>LinearRegression()</pre><b>In a Jupyter environment, please rerun this cell to show the HTML representation or trust the notebook. <br />On GitHub, the HTML representation is unable to render, please try loading this page with nbviewer.org.</b></div><div class=\"sk-container\" hidden><div class=\"sk-item\"><div class=\"sk-estimator sk-toggleable\"><input class=\"sk-toggleable__control sk-hidden--visually\" id=\"sk-estimator-id-4\" type=\"checkbox\" checked><label for=\"sk-estimator-id-4\" class=\"sk-toggleable__label sk-toggleable__label-arrow\">LinearRegression</label><div class=\"sk-toggleable__content\"><pre>LinearRegression()</pre></div></div></div></div></div>"
      ],
      "text/plain": [
       "LinearRegression()"
      ]
     },
     "execution_count": 55,
     "metadata": {},
     "output_type": "execute_result"
    }
   ],
   "source": [
    "# 모델 학습\n",
    "\n",
    "model.fit(X_train_copy2, y_train)"
   ]
  },
  {
   "cell_type": "code",
   "execution_count": 56,
   "id": "1e4c6128",
   "metadata": {},
   "outputs": [
    {
     "data": {
      "text/plain": [
       "0.8451266162022999"
      ]
     },
     "execution_count": 56,
     "metadata": {},
     "output_type": "execute_result"
    }
   ],
   "source": [
    "# 모델 평가\n",
    "# 70% - 75% - 77% - 84%\n",
    "\n",
    "model.score(X_test_copy2, y_test)"
   ]
  },
  {
   "cell_type": "code",
   "execution_count": 57,
   "id": "ca5afae4",
   "metadata": {},
   "outputs": [
    {
     "data": {
      "text/plain": [
       "0.9381871267856524"
      ]
     },
     "execution_count": 57,
     "metadata": {},
     "output_type": "execute_result"
    }
   ],
   "source": [
    "# 과대적합이 아닐 지 확인을 해야 함\n",
    "\n",
    "model.score(X_train_copy2, y_train)"
   ]
  },
  {
   "cell_type": "markdown",
   "id": "638aee33",
   "metadata": {},
   "source": [
    "- 특성 확장을 진행 해봤더니 성능 자체는 올라간 것 처럼 보임\n",
    "- 허나 모델 자체가 복잡해져 과대적합의 모습을 보이고 있음\n",
    "    - 일반화에 크게 도움이 된 것 같진 않음"
   ]
  },
  {
   "cell_type": "markdown",
   "id": "88193984",
   "metadata": {},
   "source": [
    "### 규 제\n",
    "##### L1 규제, L2 규제\n",
    "\n",
    "- 선형회귀에서 모델의 일반화를 위해 과적합 상태를 어떻게 제어할 것?\n",
    "\n",
    "라쏘, 릿지, 엘라스틱 넷\\\n",
    "(alpha : 규제의 강도)\\\n",
    "alpha 커지면 : 과대적합 감소 오차 증가\\\n",
    "alpha 줄어들면 : 과대적합 증가 오차 감소"
   ]
  },
  {
   "cell_type": "markdown",
   "id": "fb5ef9f4",
   "metadata": {},
   "source": [
    "- L1 Lasso 규제 : 가중치에 똑같은 힘으로 규제를 적용하는 방법,\\\n",
    "자동으로 특성 선택이 일어남\n",
    "- L2 Ridge 규제 : 모든 가중치에 같은 비율로 규제를 적용하는 방법,\\\n",
    "0이 되는 가중치가 있다 → 비율이라는 방법으로 규제를 적용해서"
   ]
  },
  {
   "cell_type": "markdown",
   "id": "6e84c8f1",
   "metadata": {},
   "source": [
    "### Ridge 모델"
   ]
  },
  {
   "cell_type": "code",
   "execution_count": 58,
   "id": "9eb5755f",
   "metadata": {},
   "outputs": [],
   "source": [
    "# 모델 불러오기\n",
    "\n",
    "from sklearn.linear_model import Ridge"
   ]
  },
  {
   "cell_type": "code",
   "execution_count": 59,
   "id": "ca032830",
   "metadata": {},
   "outputs": [],
   "source": [
    "# 모델 객체 생성\n",
    "\n",
    "ridge_model = Ridge(alpha=100) # alpha의 기본값은 1.0"
   ]
  },
  {
   "cell_type": "code",
   "execution_count": 60,
   "id": "29df117c",
   "metadata": {},
   "outputs": [
    {
     "data": {
      "text/html": [
       "<style>#sk-container-id-5 {color: black;background-color: white;}#sk-container-id-5 pre{padding: 0;}#sk-container-id-5 div.sk-toggleable {background-color: white;}#sk-container-id-5 label.sk-toggleable__label {cursor: pointer;display: block;width: 100%;margin-bottom: 0;padding: 0.3em;box-sizing: border-box;text-align: center;}#sk-container-id-5 label.sk-toggleable__label-arrow:before {content: \"▸\";float: left;margin-right: 0.25em;color: #696969;}#sk-container-id-5 label.sk-toggleable__label-arrow:hover:before {color: black;}#sk-container-id-5 div.sk-estimator:hover label.sk-toggleable__label-arrow:before {color: black;}#sk-container-id-5 div.sk-toggleable__content {max-height: 0;max-width: 0;overflow: hidden;text-align: left;background-color: #f0f8ff;}#sk-container-id-5 div.sk-toggleable__content pre {margin: 0.2em;color: black;border-radius: 0.25em;background-color: #f0f8ff;}#sk-container-id-5 input.sk-toggleable__control:checked~div.sk-toggleable__content {max-height: 200px;max-width: 100%;overflow: auto;}#sk-container-id-5 input.sk-toggleable__control:checked~label.sk-toggleable__label-arrow:before {content: \"▾\";}#sk-container-id-5 div.sk-estimator input.sk-toggleable__control:checked~label.sk-toggleable__label {background-color: #d4ebff;}#sk-container-id-5 div.sk-label input.sk-toggleable__control:checked~label.sk-toggleable__label {background-color: #d4ebff;}#sk-container-id-5 input.sk-hidden--visually {border: 0;clip: rect(1px 1px 1px 1px);clip: rect(1px, 1px, 1px, 1px);height: 1px;margin: -1px;overflow: hidden;padding: 0;position: absolute;width: 1px;}#sk-container-id-5 div.sk-estimator {font-family: monospace;background-color: #f0f8ff;border: 1px dotted black;border-radius: 0.25em;box-sizing: border-box;margin-bottom: 0.5em;}#sk-container-id-5 div.sk-estimator:hover {background-color: #d4ebff;}#sk-container-id-5 div.sk-parallel-item::after {content: \"\";width: 100%;border-bottom: 1px solid gray;flex-grow: 1;}#sk-container-id-5 div.sk-label:hover label.sk-toggleable__label {background-color: #d4ebff;}#sk-container-id-5 div.sk-serial::before {content: \"\";position: absolute;border-left: 1px solid gray;box-sizing: border-box;top: 0;bottom: 0;left: 50%;z-index: 0;}#sk-container-id-5 div.sk-serial {display: flex;flex-direction: column;align-items: center;background-color: white;padding-right: 0.2em;padding-left: 0.2em;position: relative;}#sk-container-id-5 div.sk-item {position: relative;z-index: 1;}#sk-container-id-5 div.sk-parallel {display: flex;align-items: stretch;justify-content: center;background-color: white;position: relative;}#sk-container-id-5 div.sk-item::before, #sk-container-id-5 div.sk-parallel-item::before {content: \"\";position: absolute;border-left: 1px solid gray;box-sizing: border-box;top: 0;bottom: 0;left: 50%;z-index: -1;}#sk-container-id-5 div.sk-parallel-item {display: flex;flex-direction: column;z-index: 1;position: relative;background-color: white;}#sk-container-id-5 div.sk-parallel-item:first-child::after {align-self: flex-end;width: 50%;}#sk-container-id-5 div.sk-parallel-item:last-child::after {align-self: flex-start;width: 50%;}#sk-container-id-5 div.sk-parallel-item:only-child::after {width: 0;}#sk-container-id-5 div.sk-dashed-wrapped {border: 1px dashed gray;margin: 0 0.4em 0.5em 0.4em;box-sizing: border-box;padding-bottom: 0.4em;background-color: white;}#sk-container-id-5 div.sk-label label {font-family: monospace;font-weight: bold;display: inline-block;line-height: 1.2em;}#sk-container-id-5 div.sk-label-container {text-align: center;}#sk-container-id-5 div.sk-container {/* jupyter's `normalize.less` sets `[hidden] { display: none; }` but bootstrap.min.css set `[hidden] { display: none !important; }` so we also need the `!important` here to be able to override the default hidden behavior on the sphinx rendered scikit-learn.org. See: https://github.com/scikit-learn/scikit-learn/issues/21755 */display: inline-block !important;position: relative;}#sk-container-id-5 div.sk-text-repr-fallback {display: none;}</style><div id=\"sk-container-id-5\" class=\"sk-top-container\"><div class=\"sk-text-repr-fallback\"><pre>Ridge(alpha=100)</pre><b>In a Jupyter environment, please rerun this cell to show the HTML representation or trust the notebook. <br />On GitHub, the HTML representation is unable to render, please try loading this page with nbviewer.org.</b></div><div class=\"sk-container\" hidden><div class=\"sk-item\"><div class=\"sk-estimator sk-toggleable\"><input class=\"sk-toggleable__control sk-hidden--visually\" id=\"sk-estimator-id-5\" type=\"checkbox\" checked><label for=\"sk-estimator-id-5\" class=\"sk-toggleable__label sk-toggleable__label-arrow\">Ridge</label><div class=\"sk-toggleable__content\"><pre>Ridge(alpha=100)</pre></div></div></div></div></div>"
      ],
      "text/plain": [
       "Ridge(alpha=100)"
      ]
     },
     "execution_count": 60,
     "metadata": {},
     "output_type": "execute_result"
    }
   ],
   "source": [
    "# 모델 학습\n",
    "\n",
    "ridge_model.fit(X_train_copy2, y_train)"
   ]
  },
  {
   "cell_type": "code",
   "execution_count": 61,
   "id": "bf898910",
   "metadata": {},
   "outputs": [
    {
     "data": {
      "text/plain": [
       "0.8423392317164484"
      ]
     },
     "execution_count": 61,
     "metadata": {},
     "output_type": "execute_result"
    }
   ],
   "source": [
    "# 모델 평가\n",
    " \n",
    "ridge_model.score(X_test_copy2, y_test)"
   ]
  },
  {
   "cell_type": "code",
   "execution_count": 62,
   "id": "884f2288",
   "metadata": {},
   "outputs": [
    {
     "data": {
      "text/plain": [
       "0.9213902192249325"
      ]
     },
     "execution_count": 62,
     "metadata": {},
     "output_type": "execute_result"
    }
   ],
   "source": [
    "ridge_model.score(X_train_copy2, y_train)"
   ]
  },
  {
   "cell_type": "markdown",
   "id": "61f2abbf",
   "metadata": {},
   "source": [
    "### Lasso 모델"
   ]
  },
  {
   "cell_type": "code",
   "execution_count": 63,
   "id": "a25b92b4",
   "metadata": {},
   "outputs": [],
   "source": [
    "from sklearn.linear_model import Lasso"
   ]
  },
  {
   "cell_type": "code",
   "execution_count": 64,
   "id": "8ffdf7b0",
   "metadata": {},
   "outputs": [],
   "source": [
    "lasso_model = Lasso(alpha=100)"
   ]
  },
  {
   "cell_type": "code",
   "execution_count": 65,
   "id": "7090900e",
   "metadata": {},
   "outputs": [
    {
     "data": {
      "text/html": [
       "<style>#sk-container-id-6 {color: black;background-color: white;}#sk-container-id-6 pre{padding: 0;}#sk-container-id-6 div.sk-toggleable {background-color: white;}#sk-container-id-6 label.sk-toggleable__label {cursor: pointer;display: block;width: 100%;margin-bottom: 0;padding: 0.3em;box-sizing: border-box;text-align: center;}#sk-container-id-6 label.sk-toggleable__label-arrow:before {content: \"▸\";float: left;margin-right: 0.25em;color: #696969;}#sk-container-id-6 label.sk-toggleable__label-arrow:hover:before {color: black;}#sk-container-id-6 div.sk-estimator:hover label.sk-toggleable__label-arrow:before {color: black;}#sk-container-id-6 div.sk-toggleable__content {max-height: 0;max-width: 0;overflow: hidden;text-align: left;background-color: #f0f8ff;}#sk-container-id-6 div.sk-toggleable__content pre {margin: 0.2em;color: black;border-radius: 0.25em;background-color: #f0f8ff;}#sk-container-id-6 input.sk-toggleable__control:checked~div.sk-toggleable__content {max-height: 200px;max-width: 100%;overflow: auto;}#sk-container-id-6 input.sk-toggleable__control:checked~label.sk-toggleable__label-arrow:before {content: \"▾\";}#sk-container-id-6 div.sk-estimator input.sk-toggleable__control:checked~label.sk-toggleable__label {background-color: #d4ebff;}#sk-container-id-6 div.sk-label input.sk-toggleable__control:checked~label.sk-toggleable__label {background-color: #d4ebff;}#sk-container-id-6 input.sk-hidden--visually {border: 0;clip: rect(1px 1px 1px 1px);clip: rect(1px, 1px, 1px, 1px);height: 1px;margin: -1px;overflow: hidden;padding: 0;position: absolute;width: 1px;}#sk-container-id-6 div.sk-estimator {font-family: monospace;background-color: #f0f8ff;border: 1px dotted black;border-radius: 0.25em;box-sizing: border-box;margin-bottom: 0.5em;}#sk-container-id-6 div.sk-estimator:hover {background-color: #d4ebff;}#sk-container-id-6 div.sk-parallel-item::after {content: \"\";width: 100%;border-bottom: 1px solid gray;flex-grow: 1;}#sk-container-id-6 div.sk-label:hover label.sk-toggleable__label {background-color: #d4ebff;}#sk-container-id-6 div.sk-serial::before {content: \"\";position: absolute;border-left: 1px solid gray;box-sizing: border-box;top: 0;bottom: 0;left: 50%;z-index: 0;}#sk-container-id-6 div.sk-serial {display: flex;flex-direction: column;align-items: center;background-color: white;padding-right: 0.2em;padding-left: 0.2em;position: relative;}#sk-container-id-6 div.sk-item {position: relative;z-index: 1;}#sk-container-id-6 div.sk-parallel {display: flex;align-items: stretch;justify-content: center;background-color: white;position: relative;}#sk-container-id-6 div.sk-item::before, #sk-container-id-6 div.sk-parallel-item::before {content: \"\";position: absolute;border-left: 1px solid gray;box-sizing: border-box;top: 0;bottom: 0;left: 50%;z-index: -1;}#sk-container-id-6 div.sk-parallel-item {display: flex;flex-direction: column;z-index: 1;position: relative;background-color: white;}#sk-container-id-6 div.sk-parallel-item:first-child::after {align-self: flex-end;width: 50%;}#sk-container-id-6 div.sk-parallel-item:last-child::after {align-self: flex-start;width: 50%;}#sk-container-id-6 div.sk-parallel-item:only-child::after {width: 0;}#sk-container-id-6 div.sk-dashed-wrapped {border: 1px dashed gray;margin: 0 0.4em 0.5em 0.4em;box-sizing: border-box;padding-bottom: 0.4em;background-color: white;}#sk-container-id-6 div.sk-label label {font-family: monospace;font-weight: bold;display: inline-block;line-height: 1.2em;}#sk-container-id-6 div.sk-label-container {text-align: center;}#sk-container-id-6 div.sk-container {/* jupyter's `normalize.less` sets `[hidden] { display: none; }` but bootstrap.min.css set `[hidden] { display: none !important; }` so we also need the `!important` here to be able to override the default hidden behavior on the sphinx rendered scikit-learn.org. See: https://github.com/scikit-learn/scikit-learn/issues/21755 */display: inline-block !important;position: relative;}#sk-container-id-6 div.sk-text-repr-fallback {display: none;}</style><div id=\"sk-container-id-6\" class=\"sk-top-container\"><div class=\"sk-text-repr-fallback\"><pre>Lasso(alpha=100)</pre><b>In a Jupyter environment, please rerun this cell to show the HTML representation or trust the notebook. <br />On GitHub, the HTML representation is unable to render, please try loading this page with nbviewer.org.</b></div><div class=\"sk-container\" hidden><div class=\"sk-item\"><div class=\"sk-estimator sk-toggleable\"><input class=\"sk-toggleable__control sk-hidden--visually\" id=\"sk-estimator-id-6\" type=\"checkbox\" checked><label for=\"sk-estimator-id-6\" class=\"sk-toggleable__label sk-toggleable__label-arrow\">Lasso</label><div class=\"sk-toggleable__content\"><pre>Lasso(alpha=100)</pre></div></div></div></div></div>"
      ],
      "text/plain": [
       "Lasso(alpha=100)"
      ]
     },
     "execution_count": 65,
     "metadata": {},
     "output_type": "execute_result"
    }
   ],
   "source": [
    "lasso_model.fit(X_train_copy2, y_train)"
   ]
  },
  {
   "cell_type": "code",
   "execution_count": 66,
   "id": "183df4e5",
   "metadata": {},
   "outputs": [
    {
     "data": {
      "text/plain": [
       "0.7945545837090771"
      ]
     },
     "execution_count": 66,
     "metadata": {},
     "output_type": "execute_result"
    }
   ],
   "source": [
    "lasso_model.score(X_test_copy2, y_test)"
   ]
  },
  {
   "cell_type": "code",
   "execution_count": 67,
   "id": "f3492d2f",
   "metadata": {},
   "outputs": [],
   "source": [
    "# 반복문을 이용하여 Ridge와 Lasso의 alpha값을 조절하고 모델 비교\n",
    "# 1. 알파값\n",
    "alpha_list = [0.001, 0.01, 0.1, 10, 100, 1000]\n",
    "\n",
    "# 2. Ridge 모델과 Lasso 모델 가중치 를 기록할 리스트 만들기\n",
    "ridge_coef_list = []\n",
    "lasso_coef_list = []\n",
    "\n",
    "# 3. 반복문 생성 모델 (제작, 학습, 리스트에 기록)\n",
    "for i in alpha_list : \n",
    "    r_model = Ridge(alpha=i)\n",
    "    l_model = Ridge(alpha=i)\n",
    "    # 모델 학습\n",
    "    r_model.fit(X_train, y_train)\n",
    "    l_model.fit(X_train, y_train)\n",
    "    # 가중치 확인 후 리스트에 넣기\n",
    "    ridge_coef_list.append(r_model.coef_)\n",
    "    lasso_coef_list.append(l_model.coef_)"
   ]
  },
  {
   "cell_type": "code",
   "execution_count": 68,
   "id": "27af3ea9",
   "metadata": {},
   "outputs": [
    {
     "data": {
      "text/html": [
       "<div>\n",
       "<style scoped>\n",
       "    .dataframe tbody tr th:only-of-type {\n",
       "        vertical-align: middle;\n",
       "    }\n",
       "\n",
       "    .dataframe tbody tr th {\n",
       "        vertical-align: top;\n",
       "    }\n",
       "\n",
       "    .dataframe thead th {\n",
       "        text-align: right;\n",
       "    }\n",
       "</style>\n",
       "<table border=\"1\" class=\"dataframe\">\n",
       "  <thead>\n",
       "    <tr style=\"text-align: right;\">\n",
       "      <th></th>\n",
       "      <th>0.001</th>\n",
       "      <th>0.010</th>\n",
       "      <th>0.100</th>\n",
       "      <th>10.000</th>\n",
       "      <th>100.000</th>\n",
       "      <th>1000.000</th>\n",
       "    </tr>\n",
       "  </thead>\n",
       "  <tbody>\n",
       "    <tr>\n",
       "      <th>CRIM</th>\n",
       "      <td>-0.110913</td>\n",
       "      <td>-0.110857</td>\n",
       "      <td>-0.110350</td>\n",
       "      <td>-0.106005</td>\n",
       "      <td>-0.104707</td>\n",
       "      <td>-0.093184</td>\n",
       "    </tr>\n",
       "    <tr>\n",
       "      <th>ZN</th>\n",
       "      <td>0.048096</td>\n",
       "      <td>0.048104</td>\n",
       "      <td>0.048177</td>\n",
       "      <td>0.048645</td>\n",
       "      <td>0.045488</td>\n",
       "      <td>0.036488</td>\n",
       "    </tr>\n",
       "    <tr>\n",
       "      <th>INDUS</th>\n",
       "      <td>0.038187</td>\n",
       "      <td>0.037776</td>\n",
       "      <td>0.034038</td>\n",
       "      <td>0.001775</td>\n",
       "      <td>0.022346</td>\n",
       "      <td>0.058287</td>\n",
       "    </tr>\n",
       "    <tr>\n",
       "      <th>CHAS</th>\n",
       "      <td>2.542014</td>\n",
       "      <td>2.539738</td>\n",
       "      <td>2.518154</td>\n",
       "      <td>1.654477</td>\n",
       "      <td>0.449400</td>\n",
       "      <td>0.069732</td>\n",
       "    </tr>\n",
       "    <tr>\n",
       "      <th>NOX</th>\n",
       "      <td>-12.079119</td>\n",
       "      <td>-11.973833</td>\n",
       "      <td>-11.013469</td>\n",
       "      <td>-1.086647</td>\n",
       "      <td>-0.095953</td>\n",
       "      <td>-0.000949</td>\n",
       "    </tr>\n",
       "    <tr>\n",
       "      <th>AGE</th>\n",
       "      <td>-0.011968</td>\n",
       "      <td>-0.012043</td>\n",
       "      <td>-0.012729</td>\n",
       "      <td>-0.018749</td>\n",
       "      <td>-0.014630</td>\n",
       "      <td>-0.003257</td>\n",
       "    </tr>\n",
       "    <tr>\n",
       "      <th>DIS</th>\n",
       "      <td>-1.314966</td>\n",
       "      <td>-1.313293</td>\n",
       "      <td>-1.298020</td>\n",
       "      <td>-1.126693</td>\n",
       "      <td>-0.956560</td>\n",
       "      <td>-0.406940</td>\n",
       "    </tr>\n",
       "    <tr>\n",
       "      <th>RAD</th>\n",
       "      <td>0.256732</td>\n",
       "      <td>0.256436</td>\n",
       "      <td>0.253746</td>\n",
       "      <td>0.231674</td>\n",
       "      <td>0.234479</td>\n",
       "      <td>0.186462</td>\n",
       "    </tr>\n",
       "    <tr>\n",
       "      <th>TAX</th>\n",
       "      <td>-0.010758</td>\n",
       "      <td>-0.010765</td>\n",
       "      <td>-0.010826</td>\n",
       "      <td>-0.011814</td>\n",
       "      <td>-0.012475</td>\n",
       "      <td>-0.011717</td>\n",
       "    </tr>\n",
       "    <tr>\n",
       "      <th>PTRATIO</th>\n",
       "      <td>-0.869875</td>\n",
       "      <td>-0.868855</td>\n",
       "      <td>-0.859571</td>\n",
       "      <td>-0.775588</td>\n",
       "      <td>-0.751848</td>\n",
       "      <td>-0.466145</td>\n",
       "    </tr>\n",
       "    <tr>\n",
       "      <th>B</th>\n",
       "      <td>0.010580</td>\n",
       "      <td>0.010583</td>\n",
       "      <td>0.010609</td>\n",
       "      <td>0.010939</td>\n",
       "      <td>0.011053</td>\n",
       "      <td>0.010930</td>\n",
       "    </tr>\n",
       "    <tr>\n",
       "      <th>LSTAT</th>\n",
       "      <td>-0.529259</td>\n",
       "      <td>-0.529446</td>\n",
       "      <td>-0.531153</td>\n",
       "      <td>-0.551132</td>\n",
       "      <td>-0.552617</td>\n",
       "      <td>-0.504206</td>\n",
       "    </tr>\n",
       "    <tr>\n",
       "      <th>RM x RM</th>\n",
       "      <td>0.347494</td>\n",
       "      <td>0.347575</td>\n",
       "      <td>0.348311</td>\n",
       "      <td>0.356057</td>\n",
       "      <td>0.363902</td>\n",
       "      <td>0.399804</td>\n",
       "    </tr>\n",
       "  </tbody>\n",
       "</table>\n",
       "</div>"
      ],
      "text/plain": [
       "          0.001      0.010      0.100     10.000    100.000   1000.000\n",
       "CRIM     -0.110913  -0.110857  -0.110350 -0.106005 -0.104707 -0.093184\n",
       "ZN        0.048096   0.048104   0.048177  0.048645  0.045488  0.036488\n",
       "INDUS     0.038187   0.037776   0.034038  0.001775  0.022346  0.058287\n",
       "CHAS      2.542014   2.539738   2.518154  1.654477  0.449400  0.069732\n",
       "NOX     -12.079119 -11.973833 -11.013469 -1.086647 -0.095953 -0.000949\n",
       "AGE      -0.011968  -0.012043  -0.012729 -0.018749 -0.014630 -0.003257\n",
       "DIS      -1.314966  -1.313293  -1.298020 -1.126693 -0.956560 -0.406940\n",
       "RAD       0.256732   0.256436   0.253746  0.231674  0.234479  0.186462\n",
       "TAX      -0.010758  -0.010765  -0.010826 -0.011814 -0.012475 -0.011717\n",
       "PTRATIO  -0.869875  -0.868855  -0.859571 -0.775588 -0.751848 -0.466145\n",
       "B         0.010580   0.010583   0.010609  0.010939  0.011053  0.010930\n",
       "LSTAT    -0.529259  -0.529446  -0.531153 -0.551132 -0.552617 -0.504206\n",
       "RM x RM   0.347494   0.347575   0.348311  0.356057  0.363902  0.399804"
      ]
     },
     "execution_count": 68,
     "metadata": {},
     "output_type": "execute_result"
    }
   ],
   "source": [
    "# lasso 정규화 w값 확인\n",
    "\n",
    "lasso_df = pd.DataFrame(np.array(lasso_coef_list).T,\n",
    "                       columns=alpha_list,\n",
    "                       index=X_train.columns)\n",
    "lasso_df"
   ]
  },
  {
   "cell_type": "code",
   "execution_count": 69,
   "id": "916d2f7c",
   "metadata": {},
   "outputs": [
    {
     "data": {
      "text/html": [
       "<div>\n",
       "<style scoped>\n",
       "    .dataframe tbody tr th:only-of-type {\n",
       "        vertical-align: middle;\n",
       "    }\n",
       "\n",
       "    .dataframe tbody tr th {\n",
       "        vertical-align: top;\n",
       "    }\n",
       "\n",
       "    .dataframe thead th {\n",
       "        text-align: right;\n",
       "    }\n",
       "</style>\n",
       "<table border=\"1\" class=\"dataframe\">\n",
       "  <thead>\n",
       "    <tr style=\"text-align: right;\">\n",
       "      <th></th>\n",
       "      <th>0.001</th>\n",
       "      <th>0.010</th>\n",
       "      <th>0.100</th>\n",
       "      <th>10.000</th>\n",
       "      <th>100.000</th>\n",
       "      <th>1000.000</th>\n",
       "    </tr>\n",
       "  </thead>\n",
       "  <tbody>\n",
       "    <tr>\n",
       "      <th>CRIM</th>\n",
       "      <td>-0.110913</td>\n",
       "      <td>-0.110857</td>\n",
       "      <td>-0.110350</td>\n",
       "      <td>-0.106005</td>\n",
       "      <td>-0.104707</td>\n",
       "      <td>-0.093184</td>\n",
       "    </tr>\n",
       "    <tr>\n",
       "      <th>ZN</th>\n",
       "      <td>0.048096</td>\n",
       "      <td>0.048104</td>\n",
       "      <td>0.048177</td>\n",
       "      <td>0.048645</td>\n",
       "      <td>0.045488</td>\n",
       "      <td>0.036488</td>\n",
       "    </tr>\n",
       "    <tr>\n",
       "      <th>INDUS</th>\n",
       "      <td>0.038187</td>\n",
       "      <td>0.037776</td>\n",
       "      <td>0.034038</td>\n",
       "      <td>0.001775</td>\n",
       "      <td>0.022346</td>\n",
       "      <td>0.058287</td>\n",
       "    </tr>\n",
       "    <tr>\n",
       "      <th>CHAS</th>\n",
       "      <td>2.542014</td>\n",
       "      <td>2.539738</td>\n",
       "      <td>2.518154</td>\n",
       "      <td>1.654477</td>\n",
       "      <td>0.449400</td>\n",
       "      <td>0.069732</td>\n",
       "    </tr>\n",
       "    <tr>\n",
       "      <th>NOX</th>\n",
       "      <td>-12.079119</td>\n",
       "      <td>-11.973833</td>\n",
       "      <td>-11.013469</td>\n",
       "      <td>-1.086647</td>\n",
       "      <td>-0.095953</td>\n",
       "      <td>-0.000949</td>\n",
       "    </tr>\n",
       "    <tr>\n",
       "      <th>AGE</th>\n",
       "      <td>-0.011968</td>\n",
       "      <td>-0.012043</td>\n",
       "      <td>-0.012729</td>\n",
       "      <td>-0.018749</td>\n",
       "      <td>-0.014630</td>\n",
       "      <td>-0.003257</td>\n",
       "    </tr>\n",
       "    <tr>\n",
       "      <th>DIS</th>\n",
       "      <td>-1.314966</td>\n",
       "      <td>-1.313293</td>\n",
       "      <td>-1.298020</td>\n",
       "      <td>-1.126693</td>\n",
       "      <td>-0.956560</td>\n",
       "      <td>-0.406940</td>\n",
       "    </tr>\n",
       "    <tr>\n",
       "      <th>RAD</th>\n",
       "      <td>0.256732</td>\n",
       "      <td>0.256436</td>\n",
       "      <td>0.253746</td>\n",
       "      <td>0.231674</td>\n",
       "      <td>0.234479</td>\n",
       "      <td>0.186462</td>\n",
       "    </tr>\n",
       "    <tr>\n",
       "      <th>TAX</th>\n",
       "      <td>-0.010758</td>\n",
       "      <td>-0.010765</td>\n",
       "      <td>-0.010826</td>\n",
       "      <td>-0.011814</td>\n",
       "      <td>-0.012475</td>\n",
       "      <td>-0.011717</td>\n",
       "    </tr>\n",
       "    <tr>\n",
       "      <th>PTRATIO</th>\n",
       "      <td>-0.869875</td>\n",
       "      <td>-0.868855</td>\n",
       "      <td>-0.859571</td>\n",
       "      <td>-0.775588</td>\n",
       "      <td>-0.751848</td>\n",
       "      <td>-0.466145</td>\n",
       "    </tr>\n",
       "    <tr>\n",
       "      <th>B</th>\n",
       "      <td>0.010580</td>\n",
       "      <td>0.010583</td>\n",
       "      <td>0.010609</td>\n",
       "      <td>0.010939</td>\n",
       "      <td>0.011053</td>\n",
       "      <td>0.010930</td>\n",
       "    </tr>\n",
       "    <tr>\n",
       "      <th>LSTAT</th>\n",
       "      <td>-0.529259</td>\n",
       "      <td>-0.529446</td>\n",
       "      <td>-0.531153</td>\n",
       "      <td>-0.551132</td>\n",
       "      <td>-0.552617</td>\n",
       "      <td>-0.504206</td>\n",
       "    </tr>\n",
       "    <tr>\n",
       "      <th>RM x RM</th>\n",
       "      <td>0.347494</td>\n",
       "      <td>0.347575</td>\n",
       "      <td>0.348311</td>\n",
       "      <td>0.356057</td>\n",
       "      <td>0.363902</td>\n",
       "      <td>0.399804</td>\n",
       "    </tr>\n",
       "  </tbody>\n",
       "</table>\n",
       "</div>"
      ],
      "text/plain": [
       "          0.001      0.010      0.100     10.000    100.000   1000.000\n",
       "CRIM     -0.110913  -0.110857  -0.110350 -0.106005 -0.104707 -0.093184\n",
       "ZN        0.048096   0.048104   0.048177  0.048645  0.045488  0.036488\n",
       "INDUS     0.038187   0.037776   0.034038  0.001775  0.022346  0.058287\n",
       "CHAS      2.542014   2.539738   2.518154  1.654477  0.449400  0.069732\n",
       "NOX     -12.079119 -11.973833 -11.013469 -1.086647 -0.095953 -0.000949\n",
       "AGE      -0.011968  -0.012043  -0.012729 -0.018749 -0.014630 -0.003257\n",
       "DIS      -1.314966  -1.313293  -1.298020 -1.126693 -0.956560 -0.406940\n",
       "RAD       0.256732   0.256436   0.253746  0.231674  0.234479  0.186462\n",
       "TAX      -0.010758  -0.010765  -0.010826 -0.011814 -0.012475 -0.011717\n",
       "PTRATIO  -0.869875  -0.868855  -0.859571 -0.775588 -0.751848 -0.466145\n",
       "B         0.010580   0.010583   0.010609  0.010939  0.011053  0.010930\n",
       "LSTAT    -0.529259  -0.529446  -0.531153 -0.551132 -0.552617 -0.504206\n",
       "RM x RM   0.347494   0.347575   0.348311  0.356057  0.363902  0.399804"
      ]
     },
     "execution_count": 69,
     "metadata": {},
     "output_type": "execute_result"
    }
   ],
   "source": [
    "# ridge 정규화 w값 확인\n",
    "\n",
    "ridge_df = pd.DataFrame(np.array(ridge_coef_list).T,\n",
    "                       columns=alpha_list,\n",
    "                       index=X_train.columns)\n",
    "ridge_df"
   ]
  },
  {
   "cell_type": "markdown",
   "id": "998eb0e8",
   "metadata": {},
   "source": [
    "### <font color = \"red\"> 정리</font>\n",
    "- 현재 보스턴 주택 데이터를 선형 회귀 분석 했을 때 규제항을 적용할 시\\\n",
    "라쏘(L1규제)가 조금 더 유리한 모습을 보이고 있음"
   ]
  },
  {
   "cell_type": "code",
   "execution_count": null,
   "id": "8dee248f",
   "metadata": {},
   "outputs": [],
   "source": []
  }
 ],
 "metadata": {
  "kernelspec": {
   "display_name": "Python 3 (ipykernel)",
   "language": "python",
   "name": "python3"
  },
  "language_info": {
   "codemirror_mode": {
    "name": "ipython",
    "version": 3
   },
   "file_extension": ".py",
   "mimetype": "text/x-python",
   "name": "python",
   "nbconvert_exporter": "python",
   "pygments_lexer": "ipython3",
   "version": "3.10.9"
  }
 },
 "nbformat": 4,
 "nbformat_minor": 5
}
